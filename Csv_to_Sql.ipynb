{
 "cells": [
  {
   "cell_type": "markdown",
   "id": "7c8b5a8a-be24-4b6e-a05b-8ab4305b5cf7",
   "metadata": {},
   "source": [
    "#### Paso 1 Importamos librerias"
   ]
  },
  {
   "cell_type": "code",
   "execution_count": 1,
   "id": "badd7c29-6831-48f1-ab4f-644d296d5a2e",
   "metadata": {},
   "outputs": [],
   "source": [
    "import pandas as pd\n",
    "import sqlite3\n",
    "import os"
   ]
  },
  {
   "cell_type": "markdown",
   "id": "7ac71f0b-cbcf-4fe7-a0b2-961158ec193b",
   "metadata": {},
   "source": [
    "#### Paso 2: Cargamos el archivo CSV y lo convertimos en dataframe con pandas"
   ]
  },
  {
   "cell_type": "code",
   "execution_count": 2,
   "id": "506a811f-6287-49b4-afbe-1ab6ee710c53",
   "metadata": {},
   "outputs": [
    {
     "name": "stdout",
     "output_type": "stream",
     "text": [
      " archivo CSV cargado con 23322 filas y 15 columnas.\n"
     ]
    }
   ],
   "source": [
    "# Paso 1: cargamos el archivo CSV\n",
    "csv_file = 'Data.csv'\n",
    "\n",
    "if not os.path.exists(csv_file):\n",
    "    raise FileNotFoundError(f\"{csv_file} not found.\")\n",
    "\n",
    "df = pd.read_csv(csv_file, encoding='latin1')  # usamos 'latin1' o algun decodificador\n",
    "print(f\" archivo CSV cargado con {len(df)} filas y {len(df.columns)} columnas.\")"
   ]
  },
  {
   "cell_type": "markdown",
   "id": "3366cb46-7e64-4369-a69e-70d3615fbae4",
   "metadata": {},
   "source": [
    "#### Paso 3: Escoger las columnas H - O (zero-index = columnas 7 - 14) del dataframe"
   ]
  },
  {
   "cell_type": "code",
   "execution_count": 3,
   "id": "c8110d7f-fb16-4a0c-9413-02fed4b629f7",
   "metadata": {},
   "outputs": [
    {
     "name": "stdout",
     "output_type": "stream",
     "text": [
      " Columnas seleccionadas H - O: ['nacionalidad', 'genero', 'fecha_nacimiento', 'fecha_reg_aspirante', 'id_usuario', 'num_accesos', 'habilitado', 'fec_ult_acceso']\n"
     ]
    }
   ],
   "source": [
    "columnas_h_to_o = df.iloc[:, 7:15] #Tomamos todas las filas desde la comuna 7 hasta la 15-1\n",
    "print(f\" Columnas seleccionadas H - O: {columnas_h_to_o.columns.tolist()}\")"
   ]
  },
  {
   "cell_type": "markdown",
   "id": "e81282a9-df68-40ae-80c5-d832c817b5e0",
   "metadata": {},
   "source": [
    "#### Paso 4: Guardar en SQLite"
   ]
  },
  {
   "cell_type": "code",
   "execution_count": 4,
   "id": "c860234e-c7b8-41ae-ba9e-d6eed08988d8",
   "metadata": {},
   "outputs": [
    {
     "name": "stdout",
     "output_type": "stream",
     "text": [
      " Se guardo la segunda mitad de columnas desde H hasta O en la tabla 'data_columnas_H-O' en la Base de Datos 'data_2.db'.\n"
     ]
    }
   ],
   "source": [
    "db_file = 'data_2.db' # creamos la base de datos\n",
    "table_name = 'data_columnas_H-O' # creamos y damos nombre a la tabla\n",
    "\n",
    "conn = sqlite3.connect(db_file) # Nos conectamso y creamos la bsse de datos\n",
    "columnas_h_to_o.to_sql(table_name, conn, if_exists='replace', index=False) # Guardamso en la tabla las columnas desde la H hasta la O del csv\n",
    "conn.close() # Cerramos la connecion\n",
    "\n",
    "print(f\" Se guardo la segunda mitad de columnas desde H hasta O en la tabla '{table_name}' en la Base de Datos '{db_file}'.\")\n"
   ]
  },
  {
   "cell_type": "code",
   "execution_count": null,
   "id": "4daf0f46-7e44-4634-a345-83b5d5853cbf",
   "metadata": {},
   "outputs": [],
   "source": []
  }
 ],
 "metadata": {
  "kernelspec": {
   "display_name": "Python 3 (ipykernel)",
   "language": "python",
   "name": "python3"
  },
  "language_info": {
   "codemirror_mode": {
    "name": "ipython",
    "version": 3
   },
   "file_extension": ".py",
   "mimetype": "text/x-python",
   "name": "python",
   "nbconvert_exporter": "python",
   "pygments_lexer": "ipython3",
   "version": "3.11.0"
  }
 },
 "nbformat": 4,
 "nbformat_minor": 5
}
