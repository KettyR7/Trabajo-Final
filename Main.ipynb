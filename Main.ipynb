{
 "cells": [
  {
   "cell_type": "markdown",
   "id": "bc5fbc7c-3438-435c-8995-6ed1f32980f6",
   "metadata": {},
   "source": [
    "## Importacion de Librerias"
   ]
  },
  {
   "cell_type": "code",
   "execution_count": 1,
   "id": "432abce8-87fb-4f02-9862-6163a8bb94cb",
   "metadata": {},
   "outputs": [],
   "source": [
    "import pandas as pd\n",
    "import sys\n",
    "import datetime as dt\n",
    "import numpy as np\n",
    "import matplotlib.pyplot as plt\n",
    "import matplotlib\n",
    "import sqlite3\n",
    "from datetime import datetime, timedelta\n",
    "import random\n",
    "\n",
    "%matplotlib inline"
   ]
  },
  {
   "cell_type": "markdown",
   "id": "c5a3e8c3-eb30-4aa6-821e-7cf115e05c52",
   "metadata": {},
   "source": [
    "### Cargamos Data2.csv"
   ]
  },
  {
   "cell_type": "code",
   "execution_count": 2,
   "id": "8db6e6e8-da5f-4a08-932a-9ed54d80ca10",
   "metadata": {},
   "outputs": [],
   "source": [
    "csv_1_file = 'data/Data2.csv'\n",
    "df_1 = pd.read_csv(csv_1_file, encoding='latin1')  # usamos 'latin1' o algun decodificador"
   ]
  },
  {
   "cell_type": "code",
   "execution_count": 3,
   "id": "685e549e-0a3d-452e-ab5b-60eb85d36168",
   "metadata": {},
   "outputs": [
    {
     "data": {
      "text/html": [
       "<div>\n",
       "<style scoped>\n",
       "    .dataframe tbody tr th:only-of-type {\n",
       "        vertical-align: middle;\n",
       "    }\n",
       "\n",
       "    .dataframe tbody tr th {\n",
       "        vertical-align: top;\n",
       "    }\n",
       "\n",
       "    .dataframe thead th {\n",
       "        text-align: right;\n",
       "    }\n",
       "</style>\n",
       "<table border=\"1\" class=\"dataframe\">\n",
       "  <thead>\n",
       "    <tr style=\"text-align: right;\">\n",
       "      <th></th>\n",
       "      <th>id_aspirante</th>\n",
       "      <th>usuarios_id</th>\n",
       "      <th>nombres</th>\n",
       "      <th>apellidos</th>\n",
       "      <th>carrera</th>\n",
       "      <th>prov_nace</th>\n",
       "      <th>canton_nace</th>\n",
       "    </tr>\n",
       "  </thead>\n",
       "  <tbody>\n",
       "    <tr>\n",
       "      <th>0</th>\n",
       "      <td>11705</td>\n",
       "      <td>150</td>\n",
       "      <td>ROXANA LILIBETH</td>\n",
       "      <td>ROMERO VERA</td>\n",
       "      <td>EDUCACION INICIAL</td>\n",
       "      <td>SANTA ELENA</td>\n",
       "      <td>SANTA ELENA</td>\n",
       "    </tr>\n",
       "    <tr>\n",
       "      <th>1</th>\n",
       "      <td>3</td>\n",
       "      <td>411</td>\n",
       "      <td>JORGE LUIS</td>\n",
       "      <td>YELA RIVERA</td>\n",
       "      <td>INGENIERIA EN PETROLEO</td>\n",
       "      <td>OTRA</td>\n",
       "      <td>OTRO</td>\n",
       "    </tr>\n",
       "    <tr>\n",
       "      <th>2</th>\n",
       "      <td>1</td>\n",
       "      <td>414</td>\n",
       "      <td>CARMEN CECILIA</td>\n",
       "      <td>AGURTO TORRES</td>\n",
       "      <td>ADMINISTRACION DE EMPRESAS</td>\n",
       "      <td>SANTA ELENA</td>\n",
       "      <td>LA LIBERTAD</td>\n",
       "    </tr>\n",
       "    <tr>\n",
       "      <th>3</th>\n",
       "      <td>2</td>\n",
       "      <td>459</td>\n",
       "      <td>JOEL OSWALDO</td>\n",
       "      <td>ALEJANDRO CRUZ</td>\n",
       "      <td>ADMINISTRACION DE EMPRESAS</td>\n",
       "      <td>SANTA ELENA</td>\n",
       "      <td>SANTA ELENA</td>\n",
       "    </tr>\n",
       "    <tr>\n",
       "      <th>4</th>\n",
       "      <td>4</td>\n",
       "      <td>460</td>\n",
       "      <td>SANDY MELISSA</td>\n",
       "      <td>YAGUAL RIVAS</td>\n",
       "      <td>INGENIERIA EN PETROLEO</td>\n",
       "      <td>GUAYAS</td>\n",
       "      <td>GUAYAQUIL</td>\n",
       "    </tr>\n",
       "  </tbody>\n",
       "</table>\n",
       "</div>"
      ],
      "text/plain": [
       "   id_aspirante  usuarios_id          nombres       apellidos  \\\n",
       "0         11705          150  ROXANA LILIBETH     ROMERO VERA   \n",
       "1             3          411       JORGE LUIS     YELA RIVERA   \n",
       "2             1          414   CARMEN CECILIA   AGURTO TORRES   \n",
       "3             2          459     JOEL OSWALDO  ALEJANDRO CRUZ   \n",
       "4             4          460    SANDY MELISSA    YAGUAL RIVAS   \n",
       "\n",
       "                      carrera    prov_nace  canton_nace  \n",
       "0           EDUCACION INICIAL  SANTA ELENA  SANTA ELENA  \n",
       "1      INGENIERIA EN PETROLEO         OTRA         OTRO  \n",
       "2  ADMINISTRACION DE EMPRESAS  SANTA ELENA  LA LIBERTAD  \n",
       "3  ADMINISTRACION DE EMPRESAS  SANTA ELENA  SANTA ELENA  \n",
       "4      INGENIERIA EN PETROLEO       GUAYAS    GUAYAQUIL  "
      ]
     },
     "execution_count": 3,
     "metadata": {},
     "output_type": "execute_result"
    }
   ],
   "source": [
    "df_1.head()"
   ]
  },
  {
   "cell_type": "code",
   "execution_count": 4,
   "id": "21e227fb-b32e-46c4-bba6-a5e1ddb71a58",
   "metadata": {},
   "outputs": [
    {
     "name": "stdout",
     "output_type": "stream",
     "text": [
      "<class 'pandas.core.frame.DataFrame'>\n",
      "RangeIndex: 23322 entries, 0 to 23321\n",
      "Data columns (total 7 columns):\n",
      " #   Column        Non-Null Count  Dtype \n",
      "---  ------        --------------  ----- \n",
      " 0   id_aspirante  23322 non-null  int64 \n",
      " 1   usuarios_id   23322 non-null  int64 \n",
      " 2   nombres       23322 non-null  object\n",
      " 3   apellidos     23322 non-null  object\n",
      " 4   carrera       23322 non-null  object\n",
      " 5   prov_nace     20407 non-null  object\n",
      " 6   canton_nace   20407 non-null  object\n",
      "dtypes: int64(2), object(5)\n",
      "memory usage: 1.2+ MB\n"
     ]
    }
   ],
   "source": [
    "df_1.info()"
   ]
  },
  {
   "cell_type": "markdown",
   "id": "69cc07ae-4b63-4c5e-a0ac-724ca191bfa7",
   "metadata": {},
   "source": [
    "### Cargamos data_2.db de la base de datos sql"
   ]
  },
  {
   "cell_type": "code",
   "execution_count": 5,
   "id": "7d40d844-d1e6-4a86-a8ab-bb88e6529a7e",
   "metadata": {},
   "outputs": [],
   "source": [
    "# Connect to the SQLite database\n",
    "db_path = 'data/data_2.db'\n",
    "connection = sqlite3.connect(db_path)\n",
    "\n",
    "# Read data from the table (use a valid SELECT query)\n",
    "table_name = 'data_columnas_H-O'\n",
    "query = f\"SELECT * FROM '{table_name}'\"\n",
    "df_2 = pd.read_sql_query(query, connection)\n",
    "\n",
    "# Close the connection\n",
    "connection.close()"
   ]
  },
  {
   "cell_type": "code",
   "execution_count": 6,
   "id": "640bea3b-144c-4ef3-903d-578d880dab48",
   "metadata": {},
   "outputs": [
    {
     "data": {
      "text/html": [
       "<div>\n",
       "<style scoped>\n",
       "    .dataframe tbody tr th:only-of-type {\n",
       "        vertical-align: middle;\n",
       "    }\n",
       "\n",
       "    .dataframe tbody tr th {\n",
       "        vertical-align: top;\n",
       "    }\n",
       "\n",
       "    .dataframe thead th {\n",
       "        text-align: right;\n",
       "    }\n",
       "</style>\n",
       "<table border=\"1\" class=\"dataframe\">\n",
       "  <thead>\n",
       "    <tr style=\"text-align: right;\">\n",
       "      <th></th>\n",
       "      <th>nacionalidad</th>\n",
       "      <th>genero</th>\n",
       "      <th>fecha_nacimiento</th>\n",
       "      <th>fecha_reg_aspirante</th>\n",
       "      <th>id_usuario</th>\n",
       "      <th>num_accesos</th>\n",
       "      <th>habilitado</th>\n",
       "      <th>fec_ult_acceso</th>\n",
       "    </tr>\n",
       "  </thead>\n",
       "  <tbody>\n",
       "    <tr>\n",
       "      <th>0</th>\n",
       "      <td>ECUATORIANA</td>\n",
       "      <td>F</td>\n",
       "      <td>1990-05-26 00:00:00.000</td>\n",
       "      <td>2018-08-28 14:31:05.000</td>\n",
       "      <td>150</td>\n",
       "      <td>58</td>\n",
       "      <td>0</td>\n",
       "      <td>2019-04-17 10:25:07.000</td>\n",
       "    </tr>\n",
       "    <tr>\n",
       "      <th>1</th>\n",
       "      <td>ECUADOR</td>\n",
       "      <td>M</td>\n",
       "      <td>None</td>\n",
       "      <td>2013-08-14 14:42:39.467</td>\n",
       "      <td>411</td>\n",
       "      <td>92</td>\n",
       "      <td>1</td>\n",
       "      <td>2016-02-12 11:46:10.000</td>\n",
       "    </tr>\n",
       "    <tr>\n",
       "      <th>2</th>\n",
       "      <td>ECUADOR</td>\n",
       "      <td>F</td>\n",
       "      <td>None</td>\n",
       "      <td>2013-08-14 14:42:38.577</td>\n",
       "      <td>414</td>\n",
       "      <td>56</td>\n",
       "      <td>1</td>\n",
       "      <td>2015-02-26 12:16:50.000</td>\n",
       "    </tr>\n",
       "    <tr>\n",
       "      <th>3</th>\n",
       "      <td>ECUADOR</td>\n",
       "      <td>M</td>\n",
       "      <td>None</td>\n",
       "      <td>2013-08-14 14:42:38.593</td>\n",
       "      <td>459</td>\n",
       "      <td>322</td>\n",
       "      <td>1</td>\n",
       "      <td>2019-08-20 22:28:08.000</td>\n",
       "    </tr>\n",
       "    <tr>\n",
       "      <th>4</th>\n",
       "      <td>ECUADOR</td>\n",
       "      <td>F</td>\n",
       "      <td>None</td>\n",
       "      <td>2013-08-14 15:16:30.857</td>\n",
       "      <td>460</td>\n",
       "      <td>2</td>\n",
       "      <td>1</td>\n",
       "      <td>2013-08-23 17:17:02.000</td>\n",
       "    </tr>\n",
       "  </tbody>\n",
       "</table>\n",
       "</div>"
      ],
      "text/plain": [
       "  nacionalidad genero         fecha_nacimiento      fecha_reg_aspirante  \\\n",
       "0  ECUATORIANA      F  1990-05-26 00:00:00.000  2018-08-28 14:31:05.000   \n",
       "1      ECUADOR      M                     None  2013-08-14 14:42:39.467   \n",
       "2      ECUADOR      F                     None  2013-08-14 14:42:38.577   \n",
       "3      ECUADOR      M                     None  2013-08-14 14:42:38.593   \n",
       "4      ECUADOR      F                     None  2013-08-14 15:16:30.857   \n",
       "\n",
       "   id_usuario  num_accesos  habilitado           fec_ult_acceso  \n",
       "0         150           58           0  2019-04-17 10:25:07.000  \n",
       "1         411           92           1  2016-02-12 11:46:10.000  \n",
       "2         414           56           1  2015-02-26 12:16:50.000  \n",
       "3         459          322           1  2019-08-20 22:28:08.000  \n",
       "4         460            2           1  2013-08-23 17:17:02.000  "
      ]
     },
     "execution_count": 6,
     "metadata": {},
     "output_type": "execute_result"
    }
   ],
   "source": [
    "df_2.head()"
   ]
  },
  {
   "cell_type": "code",
   "execution_count": 7,
   "id": "5f46f06c-6ed2-43e6-831f-206ec242ab0f",
   "metadata": {},
   "outputs": [
    {
     "name": "stdout",
     "output_type": "stream",
     "text": [
      "<class 'pandas.core.frame.DataFrame'>\n",
      "RangeIndex: 23322 entries, 0 to 23321\n",
      "Data columns (total 8 columns):\n",
      " #   Column               Non-Null Count  Dtype \n",
      "---  ------               --------------  ----- \n",
      " 0   nacionalidad         22037 non-null  object\n",
      " 1   genero               21149 non-null  object\n",
      " 2   fecha_nacimiento     15650 non-null  object\n",
      " 3   fecha_reg_aspirante  23322 non-null  object\n",
      " 4   id_usuario           23322 non-null  int64 \n",
      " 5   num_accesos          23322 non-null  int64 \n",
      " 6   habilitado           23322 non-null  int64 \n",
      " 7   fec_ult_acceso       23322 non-null  object\n",
      "dtypes: int64(3), object(5)\n",
      "memory usage: 1.4+ MB\n"
     ]
    }
   ],
   "source": [
    "df_2.info()"
   ]
  },
  {
   "cell_type": "markdown",
   "id": "c23625ef-c13a-42c6-a2ee-4cbd3a69602b",
   "metadata": {},
   "source": [
    "### Unimos las 2 bases de datos"
   ]
  },
  {
   "cell_type": "code",
   "execution_count": 8,
   "id": "a8e3f61b-a84f-43d4-8f1d-9054d95cb834",
   "metadata": {},
   "outputs": [
    {
     "data": {
      "text/html": [
       "<div>\n",
       "<style scoped>\n",
       "    .dataframe tbody tr th:only-of-type {\n",
       "        vertical-align: middle;\n",
       "    }\n",
       "\n",
       "    .dataframe tbody tr th {\n",
       "        vertical-align: top;\n",
       "    }\n",
       "\n",
       "    .dataframe thead th {\n",
       "        text-align: right;\n",
       "    }\n",
       "</style>\n",
       "<table border=\"1\" class=\"dataframe\">\n",
       "  <thead>\n",
       "    <tr style=\"text-align: right;\">\n",
       "      <th></th>\n",
       "      <th>id_aspirante</th>\n",
       "      <th>usuarios_id</th>\n",
       "      <th>nombres</th>\n",
       "      <th>apellidos</th>\n",
       "      <th>carrera</th>\n",
       "      <th>prov_nace</th>\n",
       "      <th>canton_nace</th>\n",
       "      <th>nacionalidad</th>\n",
       "      <th>genero</th>\n",
       "      <th>fecha_nacimiento</th>\n",
       "      <th>fecha_reg_aspirante</th>\n",
       "      <th>id_usuario</th>\n",
       "      <th>num_accesos</th>\n",
       "      <th>habilitado</th>\n",
       "      <th>fec_ult_acceso</th>\n",
       "    </tr>\n",
       "  </thead>\n",
       "  <tbody>\n",
       "    <tr>\n",
       "      <th>0</th>\n",
       "      <td>11705</td>\n",
       "      <td>150</td>\n",
       "      <td>ROXANA LILIBETH</td>\n",
       "      <td>ROMERO VERA</td>\n",
       "      <td>EDUCACION INICIAL</td>\n",
       "      <td>SANTA ELENA</td>\n",
       "      <td>SANTA ELENA</td>\n",
       "      <td>ECUATORIANA</td>\n",
       "      <td>F</td>\n",
       "      <td>1990-05-26 00:00:00.000</td>\n",
       "      <td>2018-08-28 14:31:05.000</td>\n",
       "      <td>150</td>\n",
       "      <td>58</td>\n",
       "      <td>0</td>\n",
       "      <td>2019-04-17 10:25:07.000</td>\n",
       "    </tr>\n",
       "    <tr>\n",
       "      <th>1</th>\n",
       "      <td>3</td>\n",
       "      <td>411</td>\n",
       "      <td>JORGE LUIS</td>\n",
       "      <td>YELA RIVERA</td>\n",
       "      <td>INGENIERIA EN PETROLEO</td>\n",
       "      <td>OTRA</td>\n",
       "      <td>OTRO</td>\n",
       "      <td>ECUADOR</td>\n",
       "      <td>M</td>\n",
       "      <td>None</td>\n",
       "      <td>2013-08-14 14:42:39.467</td>\n",
       "      <td>411</td>\n",
       "      <td>92</td>\n",
       "      <td>1</td>\n",
       "      <td>2016-02-12 11:46:10.000</td>\n",
       "    </tr>\n",
       "    <tr>\n",
       "      <th>2</th>\n",
       "      <td>1</td>\n",
       "      <td>414</td>\n",
       "      <td>CARMEN CECILIA</td>\n",
       "      <td>AGURTO TORRES</td>\n",
       "      <td>ADMINISTRACION DE EMPRESAS</td>\n",
       "      <td>SANTA ELENA</td>\n",
       "      <td>LA LIBERTAD</td>\n",
       "      <td>ECUADOR</td>\n",
       "      <td>F</td>\n",
       "      <td>None</td>\n",
       "      <td>2013-08-14 14:42:38.577</td>\n",
       "      <td>414</td>\n",
       "      <td>56</td>\n",
       "      <td>1</td>\n",
       "      <td>2015-02-26 12:16:50.000</td>\n",
       "    </tr>\n",
       "    <tr>\n",
       "      <th>3</th>\n",
       "      <td>2</td>\n",
       "      <td>459</td>\n",
       "      <td>JOEL OSWALDO</td>\n",
       "      <td>ALEJANDRO CRUZ</td>\n",
       "      <td>ADMINISTRACION DE EMPRESAS</td>\n",
       "      <td>SANTA ELENA</td>\n",
       "      <td>SANTA ELENA</td>\n",
       "      <td>ECUADOR</td>\n",
       "      <td>M</td>\n",
       "      <td>None</td>\n",
       "      <td>2013-08-14 14:42:38.593</td>\n",
       "      <td>459</td>\n",
       "      <td>322</td>\n",
       "      <td>1</td>\n",
       "      <td>2019-08-20 22:28:08.000</td>\n",
       "    </tr>\n",
       "    <tr>\n",
       "      <th>4</th>\n",
       "      <td>4</td>\n",
       "      <td>460</td>\n",
       "      <td>SANDY MELISSA</td>\n",
       "      <td>YAGUAL RIVAS</td>\n",
       "      <td>INGENIERIA EN PETROLEO</td>\n",
       "      <td>GUAYAS</td>\n",
       "      <td>GUAYAQUIL</td>\n",
       "      <td>ECUADOR</td>\n",
       "      <td>F</td>\n",
       "      <td>None</td>\n",
       "      <td>2013-08-14 15:16:30.857</td>\n",
       "      <td>460</td>\n",
       "      <td>2</td>\n",
       "      <td>1</td>\n",
       "      <td>2013-08-23 17:17:02.000</td>\n",
       "    </tr>\n",
       "  </tbody>\n",
       "</table>\n",
       "</div>"
      ],
      "text/plain": [
       "   id_aspirante  usuarios_id          nombres       apellidos  \\\n",
       "0         11705          150  ROXANA LILIBETH     ROMERO VERA   \n",
       "1             3          411       JORGE LUIS     YELA RIVERA   \n",
       "2             1          414   CARMEN CECILIA   AGURTO TORRES   \n",
       "3             2          459     JOEL OSWALDO  ALEJANDRO CRUZ   \n",
       "4             4          460    SANDY MELISSA    YAGUAL RIVAS   \n",
       "\n",
       "                      carrera    prov_nace  canton_nace nacionalidad genero  \\\n",
       "0           EDUCACION INICIAL  SANTA ELENA  SANTA ELENA  ECUATORIANA      F   \n",
       "1      INGENIERIA EN PETROLEO         OTRA         OTRO      ECUADOR      M   \n",
       "2  ADMINISTRACION DE EMPRESAS  SANTA ELENA  LA LIBERTAD      ECUADOR      F   \n",
       "3  ADMINISTRACION DE EMPRESAS  SANTA ELENA  SANTA ELENA      ECUADOR      M   \n",
       "4      INGENIERIA EN PETROLEO       GUAYAS    GUAYAQUIL      ECUADOR      F   \n",
       "\n",
       "          fecha_nacimiento      fecha_reg_aspirante  id_usuario  num_accesos  \\\n",
       "0  1990-05-26 00:00:00.000  2018-08-28 14:31:05.000         150           58   \n",
       "1                     None  2013-08-14 14:42:39.467         411           92   \n",
       "2                     None  2013-08-14 14:42:38.577         414           56   \n",
       "3                     None  2013-08-14 14:42:38.593         459          322   \n",
       "4                     None  2013-08-14 15:16:30.857         460            2   \n",
       "\n",
       "   habilitado           fec_ult_acceso  \n",
       "0           0  2019-04-17 10:25:07.000  \n",
       "1           1  2016-02-12 11:46:10.000  \n",
       "2           1  2015-02-26 12:16:50.000  \n",
       "3           1  2019-08-20 22:28:08.000  \n",
       "4           1  2013-08-23 17:17:02.000  "
      ]
     },
     "execution_count": 8,
     "metadata": {},
     "output_type": "execute_result"
    }
   ],
   "source": [
    "#df_3 = pd.concat([df_1, df_2])\n",
    "df_3 = pd.merge(df_1, df_2, left_on='usuarios_id', right_on='id_usuario', how='left')\n",
    "df_3.head()"
   ]
  },
  {
   "cell_type": "code",
   "execution_count": 9,
   "id": "9770992a-8744-4735-bb76-716dca6e909c",
   "metadata": {},
   "outputs": [
    {
     "name": "stdout",
     "output_type": "stream",
     "text": [
      "<class 'pandas.core.frame.DataFrame'>\n",
      "RangeIndex: 23322 entries, 0 to 23321\n",
      "Data columns (total 15 columns):\n",
      " #   Column               Non-Null Count  Dtype \n",
      "---  ------               --------------  ----- \n",
      " 0   id_aspirante         23322 non-null  int64 \n",
      " 1   usuarios_id          23322 non-null  int64 \n",
      " 2   nombres              23322 non-null  object\n",
      " 3   apellidos            23322 non-null  object\n",
      " 4   carrera              23322 non-null  object\n",
      " 5   prov_nace            20407 non-null  object\n",
      " 6   canton_nace          20407 non-null  object\n",
      " 7   nacionalidad         22037 non-null  object\n",
      " 8   genero               21149 non-null  object\n",
      " 9   fecha_nacimiento     15650 non-null  object\n",
      " 10  fecha_reg_aspirante  23322 non-null  object\n",
      " 11  id_usuario           23322 non-null  int64 \n",
      " 12  num_accesos          23322 non-null  int64 \n",
      " 13  habilitado           23322 non-null  int64 \n",
      " 14  fec_ult_acceso       23322 non-null  object\n",
      "dtypes: int64(5), object(10)\n",
      "memory usage: 2.7+ MB\n"
     ]
    }
   ],
   "source": [
    "df_3.info()"
   ]
  },
  {
   "cell_type": "markdown",
   "id": "a0338238-fa66-428f-977c-8d4c68d867d1",
   "metadata": {},
   "source": [
    "### Visualizamos la cantidad de campos nulos"
   ]
  },
  {
   "cell_type": "code",
   "execution_count": 10,
   "id": "ccd0d107-bad2-4b27-9a3a-53ce11595bef",
   "metadata": {},
   "outputs": [
    {
     "data": {
      "text/plain": [
       "id_aspirante              0\n",
       "usuarios_id               0\n",
       "nombres                   0\n",
       "apellidos                 0\n",
       "carrera                   0\n",
       "prov_nace              2915\n",
       "canton_nace            2915\n",
       "nacionalidad           1285\n",
       "genero                 2173\n",
       "fecha_nacimiento       7672\n",
       "fecha_reg_aspirante       0\n",
       "id_usuario                0\n",
       "num_accesos               0\n",
       "habilitado                0\n",
       "fec_ult_acceso            0\n",
       "dtype: int64"
      ]
     },
     "execution_count": 10,
     "metadata": {},
     "output_type": "execute_result"
    }
   ],
   "source": [
    "df_3.isnull().sum() # Revizar si existen datos nulos"
   ]
  },
  {
   "cell_type": "markdown",
   "id": "69266938-778f-4d50-8eed-9bebfbc28f98",
   "metadata": {},
   "source": [
    "### Tomamos un estudiante de muestra y procedemos a crar datos random\n",
    "### para ir ralizando los cambios al datafram y no perder la mayoria de datos"
   ]
  },
  {
   "cell_type": "code",
   "execution_count": 13,
   "id": "ea420948-cb11-4963-94b8-3b59c1b84461",
   "metadata": {},
   "outputs": [
    {
     "data": {
      "text/plain": [
       "id_aspirante                               3834\n",
       "usuarios_id                               13704\n",
       "nombres                           ANA JACKELINE\n",
       "apellidos                       TORRES SANCHÃZ\n",
       "carrera                CONTABILIDAD Y AUDITORIA\n",
       "prov_nace                                   NaN\n",
       "canton_nace                                 NaN\n",
       "nacionalidad                               None\n",
       "genero                                        F\n",
       "fecha_nacimiento                           None\n",
       "fecha_reg_aspirante     2015-08-24 12:47:32.000\n",
       "id_usuario                                13704\n",
       "num_accesos                                 346\n",
       "habilitado                                    1\n",
       "fec_ult_acceso          2021-05-13 19:20:08.000\n",
       "Name: 3871, dtype: object"
      ]
     },
     "execution_count": 13,
     "metadata": {},
     "output_type": "execute_result"
    }
   ],
   "source": [
    "df_3.iloc[3871]"
   ]
  },
  {
   "cell_type": "markdown",
   "id": "df9a2420-89b8-4874-afdd-7636bfb1859c",
   "metadata": {},
   "source": [
    "### Cambiamos fechas de nacimiento con valores NUll a valores random"
   ]
  },
  {
   "cell_type": "code",
   "execution_count": 14,
   "id": "1c583800-2c5e-4f45-a39b-59d9e00692f7",
   "metadata": {},
   "outputs": [],
   "source": [
    "# Funcion para generar fechas random entre los anios 1950 a 2010\n",
    "def random_fecha_nacimiento(start_year=1980, end_year=2010):\n",
    "    start_date = datetime(start_year, 1, 1)\n",
    "    end_date = datetime(end_year, 12, 31)\n",
    "    delta_days = (end_date - start_date).days\n",
    "    random_days = np.random.randint(0, delta_days)\n",
    "    return start_date + timedelta(days=random_days)"
   ]
  },
  {
   "cell_type": "code",
   "execution_count": 15,
   "id": "d9c1e116-5b4a-4a85-81b2-5c0e5d03bb85",
   "metadata": {},
   "outputs": [],
   "source": [
    "# Replazamos NAN con fechas de nacimiento\n",
    "df_3['fecha_nacimiento'] = df_3['fecha_nacimiento'].apply(\n",
    "    lambda x: random_fecha_nacimiento() if pd.isna(x) else x\n",
    ")"
   ]
  },
  {
   "cell_type": "code",
   "execution_count": 16,
   "id": "4f6cc223-1aa2-429e-bd90-e2cea27bc93f",
   "metadata": {},
   "outputs": [
    {
     "data": {
      "text/plain": [
       "id_aspirante                               3834\n",
       "usuarios_id                               13704\n",
       "nombres                           ANA JACKELINE\n",
       "apellidos                       TORRES SANCHÃZ\n",
       "carrera                CONTABILIDAD Y AUDITORIA\n",
       "prov_nace                                   NaN\n",
       "canton_nace                                 NaN\n",
       "nacionalidad                               None\n",
       "genero                                        F\n",
       "fecha_nacimiento            1994-02-04 00:00:00\n",
       "fecha_reg_aspirante     2015-08-24 12:47:32.000\n",
       "id_usuario                                13704\n",
       "num_accesos                                 346\n",
       "habilitado                                    1\n",
       "fec_ult_acceso          2021-05-13 19:20:08.000\n",
       "Name: 3871, dtype: object"
      ]
     },
     "execution_count": 16,
     "metadata": {},
     "output_type": "execute_result"
    }
   ],
   "source": [
    "df_3.iloc[3871]"
   ]
  },
  {
   "cell_type": "markdown",
   "id": "9e5d0d66-c996-46b6-8e40-01c8d8172d7c",
   "metadata": {},
   "source": [
    "### Remplazamos valores nulos por valores random de provincias"
   ]
  },
  {
   "cell_type": "code",
   "execution_count": 17,
   "id": "eed6fbaf-51fc-4aea-bbc8-227d57131353",
   "metadata": {},
   "outputs": [],
   "source": [
    "# Algunas provincias con sus cantones\n",
    "ecuador_locaciones = {\n",
    "    'Pichincha': ['Quito', 'Cayambe', 'Rumiñahui'],\n",
    "    'Santa Elena': ['Santa Elena', 'Salinas', 'La Libertad'],\n",
    "    'Guayas': ['Guayaquil', 'Daule', 'Samborondón'],\n",
    "    'Azuay': ['Cuenca', 'Gualaceo', 'Paute'],\n",
    "    'Manabí': ['Portoviejo', 'Manta', 'Chone']\n",
    "    # Anadir mas provincias y cantones si se necesita\n",
    "}\n",
    "\n",
    "# Convert province list\n",
    "provincias = list(ecuador_locaciones.keys())\n",
    "\n",
    "# Replace nulls in prov_nace with random provinces\n",
    "df_3['prov_nace'] = df_3['prov_nace'].apply(\n",
    "    lambda x: random.choice(provincias) if pd.isna(x) or str(x).strip().upper() in ['OTRO', 'OTRA'] else x\n",
    ")\n",
    "\n"
   ]
  },
  {
   "cell_type": "code",
   "execution_count": 18,
   "id": "1a7e3a2f-4f1b-4d84-a1ca-b087b452144c",
   "metadata": {},
   "outputs": [
    {
     "data": {
      "text/plain": [
       "id_aspirante                               3834\n",
       "usuarios_id                               13704\n",
       "nombres                           ANA JACKELINE\n",
       "apellidos                       TORRES SANCHÃZ\n",
       "carrera                CONTABILIDAD Y AUDITORIA\n",
       "prov_nace                                Guayas\n",
       "canton_nace                                 NaN\n",
       "nacionalidad                               None\n",
       "genero                                        F\n",
       "fecha_nacimiento            1994-02-04 00:00:00\n",
       "fecha_reg_aspirante     2015-08-24 12:47:32.000\n",
       "id_usuario                                13704\n",
       "num_accesos                                 346\n",
       "habilitado                                    1\n",
       "fec_ult_acceso          2021-05-13 19:20:08.000\n",
       "Name: 3871, dtype: object"
      ]
     },
     "execution_count": 18,
     "metadata": {},
     "output_type": "execute_result"
    }
   ],
   "source": [
    "df_3.iloc[3871]"
   ]
  },
  {
   "cell_type": "markdown",
   "id": "d2adfa88-b2bd-4983-a5ee-f46642a4b47a",
   "metadata": {},
   "source": [
    "#### Remplazamos cantones"
   ]
  },
  {
   "cell_type": "code",
   "execution_count": 19,
   "id": "183de8ad-ce0e-427e-8245-70337c98c4eb",
   "metadata": {},
   "outputs": [],
   "source": [
    "# Remplazamos nulls de canton_nace basado en prov_nace\n",
    "def assign_random_canton(row):\n",
    "    canton = row['canton_nace']\n",
    "    if pd.isna(canton) or str(canton).strip().upper() in ['OTRO', 'OTRA']:\n",
    "        prov = row['prov_nace']\n",
    "        return random.choice(ecuador_locaciones.get(prov, []))\n",
    "    return canton\n",
    "\n",
    "df_3['canton_nace'] = df_3.apply(assign_random_canton, axis=1)"
   ]
  },
  {
   "cell_type": "code",
   "execution_count": 20,
   "id": "4714c36b-77f8-4755-b38d-f6b9aa5566cd",
   "metadata": {},
   "outputs": [
    {
     "data": {
      "text/plain": [
       "id_aspirante                               3834\n",
       "usuarios_id                               13704\n",
       "nombres                           ANA JACKELINE\n",
       "apellidos                       TORRES SANCHÃZ\n",
       "carrera                CONTABILIDAD Y AUDITORIA\n",
       "prov_nace                                Guayas\n",
       "canton_nace                               Daule\n",
       "nacionalidad                               None\n",
       "genero                                        F\n",
       "fecha_nacimiento            1994-02-04 00:00:00\n",
       "fecha_reg_aspirante     2015-08-24 12:47:32.000\n",
       "id_usuario                                13704\n",
       "num_accesos                                 346\n",
       "habilitado                                    1\n",
       "fec_ult_acceso          2021-05-13 19:20:08.000\n",
       "Name: 3871, dtype: object"
      ]
     },
     "execution_count": 20,
     "metadata": {},
     "output_type": "execute_result"
    }
   ],
   "source": [
    "df_3.iloc[3871]"
   ]
  },
  {
   "cell_type": "markdown",
   "id": "d817e0d9-0734-46d0-a89e-f3f9dc8d942a",
   "metadata": {},
   "source": [
    "### Cambiamos la nacionalidad a Ecuatoriana si es nulo el campo o si es diferente a la palabra Ecuatoriana"
   ]
  },
  {
   "cell_type": "code",
   "execution_count": 21,
   "id": "19f1f160-f7c3-4738-9611-6913343184fa",
   "metadata": {},
   "outputs": [],
   "source": [
    "df_3['nacionalidad'] = df_3['nacionalidad'].apply(lambda x: 'ECUATORIANA' if pd.isna(x) or str(x).strip().upper() != 'ECUATORIANA' else x)"
   ]
  },
  {
   "cell_type": "code",
   "execution_count": 22,
   "id": "798176f3-89f8-455c-9218-42dbc9661fdc",
   "metadata": {},
   "outputs": [
    {
     "data": {
      "text/plain": [
       "id_aspirante                               3834\n",
       "usuarios_id                               13704\n",
       "nombres                           ANA JACKELINE\n",
       "apellidos                       TORRES SANCHÃZ\n",
       "carrera                CONTABILIDAD Y AUDITORIA\n",
       "prov_nace                                Guayas\n",
       "canton_nace                               Daule\n",
       "nacionalidad                        ECUATORIANA\n",
       "genero                                        F\n",
       "fecha_nacimiento            1994-02-04 00:00:00\n",
       "fecha_reg_aspirante     2015-08-24 12:47:32.000\n",
       "id_usuario                                13704\n",
       "num_accesos                                 346\n",
       "habilitado                                    1\n",
       "fec_ult_acceso          2021-05-13 19:20:08.000\n",
       "Name: 3871, dtype: object"
      ]
     },
     "execution_count": 22,
     "metadata": {},
     "output_type": "execute_result"
    }
   ],
   "source": [
    "df_3.iloc[3871]"
   ]
  },
  {
   "cell_type": "markdown",
   "id": "0ae3bc85-b997-4f4e-88ce-8bb43bcbd2ca",
   "metadata": {},
   "source": [
    "### Cambiamos el genero de F y M a Femenino y Masculino respectivamente"
   ]
  },
  {
   "cell_type": "code",
   "execution_count": 23,
   "id": "3129404c-65e8-473d-9f51-7faf609feb6b",
   "metadata": {},
   "outputs": [],
   "source": [
    "df_3['genero'] = df_3['genero'].replace({'F': 'FEMENINO', 'M': 'MASCULINO'})"
   ]
  },
  {
   "cell_type": "code",
   "execution_count": 24,
   "id": "0a148474-8012-495b-bda5-4585439ab619",
   "metadata": {},
   "outputs": [
    {
     "data": {
      "text/plain": [
       "id_aspirante                               3834\n",
       "usuarios_id                               13704\n",
       "nombres                           ANA JACKELINE\n",
       "apellidos                       TORRES SANCHÃZ\n",
       "carrera                CONTABILIDAD Y AUDITORIA\n",
       "prov_nace                                Guayas\n",
       "canton_nace                               Daule\n",
       "nacionalidad                        ECUATORIANA\n",
       "genero                                 FEMENINO\n",
       "fecha_nacimiento            1994-02-04 00:00:00\n",
       "fecha_reg_aspirante     2015-08-24 12:47:32.000\n",
       "id_usuario                                13704\n",
       "num_accesos                                 346\n",
       "habilitado                                    1\n",
       "fec_ult_acceso          2021-05-13 19:20:08.000\n",
       "Name: 3871, dtype: object"
      ]
     },
     "execution_count": 24,
     "metadata": {},
     "output_type": "execute_result"
    }
   ],
   "source": [
    "df_3.iloc[3871]"
   ]
  },
  {
   "cell_type": "markdown",
   "id": "0132117a-820f-466b-9c5b-01229644ab80",
   "metadata": {},
   "source": [
    "### Eliminamos las filas vacias de genero"
   ]
  },
  {
   "cell_type": "code",
   "execution_count": 25,
   "id": "e565930d-0726-456e-af97-8821cc1be770",
   "metadata": {},
   "outputs": [],
   "source": [
    "df_3 = df_3.dropna(subset=['genero'])"
   ]
  },
  {
   "cell_type": "code",
   "execution_count": 26,
   "id": "7acb831e-7ec9-41d9-9304-845158317438",
   "metadata": {},
   "outputs": [
    {
     "data": {
      "text/plain": [
       "id_aspirante           0\n",
       "usuarios_id            0\n",
       "nombres                0\n",
       "apellidos              0\n",
       "carrera                0\n",
       "prov_nace              0\n",
       "canton_nace            0\n",
       "nacionalidad           0\n",
       "genero                 0\n",
       "fecha_nacimiento       0\n",
       "fecha_reg_aspirante    0\n",
       "id_usuario             0\n",
       "num_accesos            0\n",
       "habilitado             0\n",
       "fec_ult_acceso         0\n",
       "dtype: int64"
      ]
     },
     "execution_count": 26,
     "metadata": {},
     "output_type": "execute_result"
    }
   ],
   "source": [
    "df_3.isnull().sum() # Revizar si existen datos nulos"
   ]
  },
  {
   "cell_type": "markdown",
   "id": "d0e04a74-258d-4734-9f80-84554a07866f",
   "metadata": {},
   "source": [
    "#### Cambiamos todas las columnas a Mayusculas"
   ]
  },
  {
   "cell_type": "code",
   "execution_count": 31,
   "id": "52486d84-fa0c-43fc-9116-44d3fbaaf739",
   "metadata": {},
   "outputs": [],
   "source": [
    "for col in df_3.select_dtypes(include='object').columns:\n",
    "    df_3.loc[:, col] = df_3[col].map(lambda x: x.upper() if isinstance(x, str) else x)"
   ]
  },
  {
   "cell_type": "markdown",
   "id": "423a7640-d4e8-4b0d-98c1-3da02a622941",
   "metadata": {},
   "source": [
    "### Eliminamos Espacios en blanco Iniciales y finales"
   ]
  },
  {
   "cell_type": "code",
   "execution_count": 37,
   "id": "5d1acb2f-a82f-4c82-b381-b60bb9163db9",
   "metadata": {},
   "outputs": [],
   "source": [
    "df_3.loc[:, col] = df_3[col].map(lambda x: x.strip().upper() if isinstance(x, str) else x)"
   ]
  },
  {
   "cell_type": "code",
   "execution_count": 38,
   "id": "fc1e7097-d241-4b4d-8a7e-ccf7c198ad0d",
   "metadata": {},
   "outputs": [
    {
     "data": {
      "text/html": [
       "<div>\n",
       "<style scoped>\n",
       "    .dataframe tbody tr th:only-of-type {\n",
       "        vertical-align: middle;\n",
       "    }\n",
       "\n",
       "    .dataframe tbody tr th {\n",
       "        vertical-align: top;\n",
       "    }\n",
       "\n",
       "    .dataframe thead th {\n",
       "        text-align: right;\n",
       "    }\n",
       "</style>\n",
       "<table border=\"1\" class=\"dataframe\">\n",
       "  <thead>\n",
       "    <tr style=\"text-align: right;\">\n",
       "      <th></th>\n",
       "      <th>id_aspirante</th>\n",
       "      <th>usuarios_id</th>\n",
       "      <th>nombres</th>\n",
       "      <th>apellidos</th>\n",
       "      <th>carrera</th>\n",
       "      <th>prov_nace</th>\n",
       "      <th>canton_nace</th>\n",
       "      <th>nacionalidad</th>\n",
       "      <th>genero</th>\n",
       "      <th>fecha_nacimiento</th>\n",
       "      <th>fecha_reg_aspirante</th>\n",
       "      <th>id_usuario</th>\n",
       "      <th>num_accesos</th>\n",
       "      <th>habilitado</th>\n",
       "      <th>fec_ult_acceso</th>\n",
       "    </tr>\n",
       "  </thead>\n",
       "  <tbody>\n",
       "    <tr>\n",
       "      <th>0</th>\n",
       "      <td>11705</td>\n",
       "      <td>150</td>\n",
       "      <td>ROXANA LILIBETH</td>\n",
       "      <td>ROMERO VERA</td>\n",
       "      <td>EDUCACION INICIAL</td>\n",
       "      <td>SANTA ELENA</td>\n",
       "      <td>SANTA ELENA</td>\n",
       "      <td>ECUATORIANA</td>\n",
       "      <td>FEMENINO</td>\n",
       "      <td>1990-05-26 00:00:00.000</td>\n",
       "      <td>2018-08-28 14:31:05.000</td>\n",
       "      <td>150</td>\n",
       "      <td>58</td>\n",
       "      <td>0</td>\n",
       "      <td>2019-04-17 10:25:07.000</td>\n",
       "    </tr>\n",
       "    <tr>\n",
       "      <th>1</th>\n",
       "      <td>3</td>\n",
       "      <td>411</td>\n",
       "      <td>JORGE LUIS</td>\n",
       "      <td>YELA RIVERA</td>\n",
       "      <td>INGENIERIA EN PETROLEO</td>\n",
       "      <td>SANTA ELENA</td>\n",
       "      <td>LA LIBERTAD</td>\n",
       "      <td>ECUATORIANA</td>\n",
       "      <td>MASCULINO</td>\n",
       "      <td>1981-10-10 00:00:00</td>\n",
       "      <td>2013-08-14 14:42:39.467</td>\n",
       "      <td>411</td>\n",
       "      <td>92</td>\n",
       "      <td>1</td>\n",
       "      <td>2016-02-12 11:46:10.000</td>\n",
       "    </tr>\n",
       "    <tr>\n",
       "      <th>2</th>\n",
       "      <td>1</td>\n",
       "      <td>414</td>\n",
       "      <td>CARMEN CECILIA</td>\n",
       "      <td>AGURTO TORRES</td>\n",
       "      <td>ADMINISTRACION DE EMPRESAS</td>\n",
       "      <td>SANTA ELENA</td>\n",
       "      <td>LA LIBERTAD</td>\n",
       "      <td>ECUATORIANA</td>\n",
       "      <td>FEMENINO</td>\n",
       "      <td>1998-01-24 00:00:00</td>\n",
       "      <td>2013-08-14 14:42:38.577</td>\n",
       "      <td>414</td>\n",
       "      <td>56</td>\n",
       "      <td>1</td>\n",
       "      <td>2015-02-26 12:16:50.000</td>\n",
       "    </tr>\n",
       "    <tr>\n",
       "      <th>3</th>\n",
       "      <td>2</td>\n",
       "      <td>459</td>\n",
       "      <td>JOEL OSWALDO</td>\n",
       "      <td>ALEJANDRO CRUZ</td>\n",
       "      <td>ADMINISTRACION DE EMPRESAS</td>\n",
       "      <td>SANTA ELENA</td>\n",
       "      <td>SANTA ELENA</td>\n",
       "      <td>ECUATORIANA</td>\n",
       "      <td>MASCULINO</td>\n",
       "      <td>1991-12-05 00:00:00</td>\n",
       "      <td>2013-08-14 14:42:38.593</td>\n",
       "      <td>459</td>\n",
       "      <td>322</td>\n",
       "      <td>1</td>\n",
       "      <td>2019-08-20 22:28:08.000</td>\n",
       "    </tr>\n",
       "    <tr>\n",
       "      <th>4</th>\n",
       "      <td>4</td>\n",
       "      <td>460</td>\n",
       "      <td>SANDY MELISSA</td>\n",
       "      <td>YAGUAL RIVAS</td>\n",
       "      <td>INGENIERIA EN PETROLEO</td>\n",
       "      <td>GUAYAS</td>\n",
       "      <td>GUAYAQUIL</td>\n",
       "      <td>ECUATORIANA</td>\n",
       "      <td>FEMENINO</td>\n",
       "      <td>1994-07-08 00:00:00</td>\n",
       "      <td>2013-08-14 15:16:30.857</td>\n",
       "      <td>460</td>\n",
       "      <td>2</td>\n",
       "      <td>1</td>\n",
       "      <td>2013-08-23 17:17:02.000</td>\n",
       "    </tr>\n",
       "  </tbody>\n",
       "</table>\n",
       "</div>"
      ],
      "text/plain": [
       "   id_aspirante  usuarios_id          nombres       apellidos  \\\n",
       "0         11705          150  ROXANA LILIBETH     ROMERO VERA   \n",
       "1             3          411       JORGE LUIS     YELA RIVERA   \n",
       "2             1          414   CARMEN CECILIA   AGURTO TORRES   \n",
       "3             2          459     JOEL OSWALDO  ALEJANDRO CRUZ   \n",
       "4             4          460    SANDY MELISSA    YAGUAL RIVAS   \n",
       "\n",
       "                      carrera    prov_nace  canton_nace nacionalidad  \\\n",
       "0           EDUCACION INICIAL  SANTA ELENA  SANTA ELENA  ECUATORIANA   \n",
       "1      INGENIERIA EN PETROLEO  SANTA ELENA  LA LIBERTAD  ECUATORIANA   \n",
       "2  ADMINISTRACION DE EMPRESAS  SANTA ELENA  LA LIBERTAD  ECUATORIANA   \n",
       "3  ADMINISTRACION DE EMPRESAS  SANTA ELENA  SANTA ELENA  ECUATORIANA   \n",
       "4      INGENIERIA EN PETROLEO       GUAYAS    GUAYAQUIL  ECUATORIANA   \n",
       "\n",
       "      genero         fecha_nacimiento      fecha_reg_aspirante  id_usuario  \\\n",
       "0   FEMENINO  1990-05-26 00:00:00.000  2018-08-28 14:31:05.000         150   \n",
       "1  MASCULINO      1981-10-10 00:00:00  2013-08-14 14:42:39.467         411   \n",
       "2   FEMENINO      1998-01-24 00:00:00  2013-08-14 14:42:38.577         414   \n",
       "3  MASCULINO      1991-12-05 00:00:00  2013-08-14 14:42:38.593         459   \n",
       "4   FEMENINO      1994-07-08 00:00:00  2013-08-14 15:16:30.857         460   \n",
       "\n",
       "   num_accesos  habilitado           fec_ult_acceso  \n",
       "0           58           0  2019-04-17 10:25:07.000  \n",
       "1           92           1  2016-02-12 11:46:10.000  \n",
       "2           56           1  2015-02-26 12:16:50.000  \n",
       "3          322           1  2019-08-20 22:28:08.000  \n",
       "4            2           1  2013-08-23 17:17:02.000  "
      ]
     },
     "execution_count": 38,
     "metadata": {},
     "output_type": "execute_result"
    }
   ],
   "source": [
    "df_3.head()"
   ]
  },
  {
   "cell_type": "code",
   "execution_count": 39,
   "id": "2f25df64-9844-4c33-a775-392180014e7d",
   "metadata": {},
   "outputs": [
    {
     "name": "stdout",
     "output_type": "stream",
     "text": [
      "<class 'pandas.core.frame.DataFrame'>\n",
      "Index: 21149 entries, 0 to 23321\n",
      "Data columns (total 15 columns):\n",
      " #   Column               Non-Null Count  Dtype \n",
      "---  ------               --------------  ----- \n",
      " 0   id_aspirante         21149 non-null  int64 \n",
      " 1   usuarios_id          21149 non-null  int64 \n",
      " 2   nombres              21149 non-null  object\n",
      " 3   apellidos            21149 non-null  object\n",
      " 4   carrera              21149 non-null  object\n",
      " 5   prov_nace            21149 non-null  object\n",
      " 6   canton_nace          21149 non-null  object\n",
      " 7   nacionalidad         21149 non-null  object\n",
      " 8   genero               21149 non-null  object\n",
      " 9   fecha_nacimiento     21149 non-null  object\n",
      " 10  fecha_reg_aspirante  21149 non-null  object\n",
      " 11  id_usuario           21149 non-null  int64 \n",
      " 12  num_accesos          21149 non-null  int64 \n",
      " 13  habilitado           21149 non-null  int64 \n",
      " 14  fec_ult_acceso       21149 non-null  object\n",
      "dtypes: int64(5), object(10)\n",
      "memory usage: 2.6+ MB\n"
     ]
    }
   ],
   "source": [
    "df_3.info()"
   ]
  },
  {
   "cell_type": "code",
   "execution_count": null,
   "id": "5eec5379-bedc-4d50-a246-b8ccf0aacd1e",
   "metadata": {},
   "outputs": [],
   "source": []
  }
 ],
 "metadata": {
  "kernelspec": {
   "display_name": "Python 3 (ipykernel)",
   "language": "python",
   "name": "python3"
  },
  "language_info": {
   "codemirror_mode": {
    "name": "ipython",
    "version": 3
   },
   "file_extension": ".py",
   "mimetype": "text/x-python",
   "name": "python",
   "nbconvert_exporter": "python",
   "pygments_lexer": "ipython3",
   "version": "3.11.0"
  }
 },
 "nbformat": 4,
 "nbformat_minor": 5
}
