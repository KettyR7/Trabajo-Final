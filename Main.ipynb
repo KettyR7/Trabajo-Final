{
 "cells": [
  {
   "cell_type": "markdown",
   "id": "bc5fbc7c-3438-435c-8995-6ed1f32980f6",
   "metadata": {},
   "source": [
    "## Importacion de Librerias"
   ]
  },
  {
   "cell_type": "code",
   "execution_count": 1,
   "id": "432abce8-87fb-4f02-9862-6163a8bb94cb",
   "metadata": {},
   "outputs": [],
   "source": [
    "import pandas as pd\n",
    "import sys\n",
    "import datetime as dt\n",
    "import numpy as np\n",
    "import matplotlib.pyplot as plt\n",
    "import matplotlib\n",
    "import sqlite3\n",
    "from datetime import datetime, timedelta\n",
    "import random\n",
    "\n",
    "%matplotlib inline"
   ]
  },
  {
   "cell_type": "markdown",
   "id": "c5a3e8c3-eb30-4aa6-821e-7cf115e05c52",
   "metadata": {},
   "source": [
    "### Cargamos Data2.csv"
   ]
  },
  {
   "cell_type": "code",
   "execution_count": 2,
   "id": "8db6e6e8-da5f-4a08-932a-9ed54d80ca10",
   "metadata": {},
   "outputs": [],
   "source": [
    "csv_1_file = 'data/Data2.csv'\n",
    "df_1 = pd.read_csv(csv_1_file, encoding='latin1')  # usamos 'latin1' o algun decodificador"
   ]
  },
  {
   "cell_type": "code",
   "execution_count": 3,
   "id": "685e549e-0a3d-452e-ab5b-60eb85d36168",
   "metadata": {},
   "outputs": [
    {
     "data": {
      "text/html": [
       "<div>\n",
       "<style scoped>\n",
       "    .dataframe tbody tr th:only-of-type {\n",
       "        vertical-align: middle;\n",
       "    }\n",
       "\n",
       "    .dataframe tbody tr th {\n",
       "        vertical-align: top;\n",
       "    }\n",
       "\n",
       "    .dataframe thead th {\n",
       "        text-align: right;\n",
       "    }\n",
       "</style>\n",
       "<table border=\"1\" class=\"dataframe\">\n",
       "  <thead>\n",
       "    <tr style=\"text-align: right;\">\n",
       "      <th></th>\n",
       "      <th>id_aspirante</th>\n",
       "      <th>usuarios_id</th>\n",
       "      <th>nombres</th>\n",
       "      <th>apellidos</th>\n",
       "      <th>carrera</th>\n",
       "      <th>prov_nace</th>\n",
       "      <th>canton_nace</th>\n",
       "    </tr>\n",
       "  </thead>\n",
       "  <tbody>\n",
       "    <tr>\n",
       "      <th>0</th>\n",
       "      <td>11705</td>\n",
       "      <td>150</td>\n",
       "      <td>ROXANA LILIBETH</td>\n",
       "      <td>ROMERO VERA</td>\n",
       "      <td>EDUCACION INICIAL</td>\n",
       "      <td>SANTA ELENA</td>\n",
       "      <td>SANTA ELENA</td>\n",
       "    </tr>\n",
       "    <tr>\n",
       "      <th>1</th>\n",
       "      <td>3</td>\n",
       "      <td>411</td>\n",
       "      <td>JORGE LUIS</td>\n",
       "      <td>YELA RIVERA</td>\n",
       "      <td>INGENIERIA EN PETROLEO</td>\n",
       "      <td>OTRA</td>\n",
       "      <td>OTRO</td>\n",
       "    </tr>\n",
       "    <tr>\n",
       "      <th>2</th>\n",
       "      <td>1</td>\n",
       "      <td>414</td>\n",
       "      <td>CARMEN CECILIA</td>\n",
       "      <td>AGURTO TORRES</td>\n",
       "      <td>ADMINISTRACION DE EMPRESAS</td>\n",
       "      <td>SANTA ELENA</td>\n",
       "      <td>LA LIBERTAD</td>\n",
       "    </tr>\n",
       "    <tr>\n",
       "      <th>3</th>\n",
       "      <td>2</td>\n",
       "      <td>459</td>\n",
       "      <td>JOEL OSWALDO</td>\n",
       "      <td>ALEJANDRO CRUZ</td>\n",
       "      <td>ADMINISTRACION DE EMPRESAS</td>\n",
       "      <td>SANTA ELENA</td>\n",
       "      <td>SANTA ELENA</td>\n",
       "    </tr>\n",
       "    <tr>\n",
       "      <th>4</th>\n",
       "      <td>4</td>\n",
       "      <td>460</td>\n",
       "      <td>SANDY MELISSA</td>\n",
       "      <td>YAGUAL RIVAS</td>\n",
       "      <td>INGENIERIA EN PETROLEO</td>\n",
       "      <td>GUAYAS</td>\n",
       "      <td>GUAYAQUIL</td>\n",
       "    </tr>\n",
       "  </tbody>\n",
       "</table>\n",
       "</div>"
      ],
      "text/plain": [
       "   id_aspirante  usuarios_id          nombres       apellidos  \\\n",
       "0         11705          150  ROXANA LILIBETH     ROMERO VERA   \n",
       "1             3          411       JORGE LUIS     YELA RIVERA   \n",
       "2             1          414   CARMEN CECILIA   AGURTO TORRES   \n",
       "3             2          459     JOEL OSWALDO  ALEJANDRO CRUZ   \n",
       "4             4          460    SANDY MELISSA    YAGUAL RIVAS   \n",
       "\n",
       "                      carrera    prov_nace  canton_nace  \n",
       "0           EDUCACION INICIAL  SANTA ELENA  SANTA ELENA  \n",
       "1      INGENIERIA EN PETROLEO         OTRA         OTRO  \n",
       "2  ADMINISTRACION DE EMPRESAS  SANTA ELENA  LA LIBERTAD  \n",
       "3  ADMINISTRACION DE EMPRESAS  SANTA ELENA  SANTA ELENA  \n",
       "4      INGENIERIA EN PETROLEO       GUAYAS    GUAYAQUIL  "
      ]
     },
     "execution_count": 3,
     "metadata": {},
     "output_type": "execute_result"
    }
   ],
   "source": [
    "df_1.head()"
   ]
  },
  {
   "cell_type": "code",
   "execution_count": 4,
   "id": "21e227fb-b32e-46c4-bba6-a5e1ddb71a58",
   "metadata": {},
   "outputs": [
    {
     "name": "stdout",
     "output_type": "stream",
     "text": [
      "<class 'pandas.core.frame.DataFrame'>\n",
      "RangeIndex: 23322 entries, 0 to 23321\n",
      "Data columns (total 7 columns):\n",
      " #   Column        Non-Null Count  Dtype \n",
      "---  ------        --------------  ----- \n",
      " 0   id_aspirante  23322 non-null  int64 \n",
      " 1   usuarios_id   23322 non-null  int64 \n",
      " 2   nombres       23322 non-null  object\n",
      " 3   apellidos     23322 non-null  object\n",
      " 4   carrera       23322 non-null  object\n",
      " 5   prov_nace     20407 non-null  object\n",
      " 6   canton_nace   20407 non-null  object\n",
      "dtypes: int64(2), object(5)\n",
      "memory usage: 1.2+ MB\n"
     ]
    }
   ],
   "source": [
    "df_1.info()"
   ]
  },
  {
   "cell_type": "markdown",
   "id": "69cc07ae-4b63-4c5e-a0ac-724ca191bfa7",
   "metadata": {},
   "source": [
    "### Cargamos data_2.db de la base de datos sql"
   ]
  },
  {
   "cell_type": "code",
   "execution_count": 5,
   "id": "7d40d844-d1e6-4a86-a8ab-bb88e6529a7e",
   "metadata": {},
   "outputs": [],
   "source": [
    "# Connect to the SQLite database\n",
    "db_path = 'data/data_2.db'\n",
    "connection = sqlite3.connect(db_path)\n",
    "\n",
    "# Read data from the table (use a valid SELECT query)\n",
    "table_name = 'data_columnas_H-O'\n",
    "query = f\"SELECT * FROM '{table_name}'\"\n",
    "df_2 = pd.read_sql_query(query, connection)\n",
    "\n",
    "# Close the connection\n",
    "connection.close()"
   ]
  },
  {
   "cell_type": "code",
   "execution_count": 6,
   "id": "640bea3b-144c-4ef3-903d-578d880dab48",
   "metadata": {},
   "outputs": [
    {
     "data": {
      "text/html": [
       "<div>\n",
       "<style scoped>\n",
       "    .dataframe tbody tr th:only-of-type {\n",
       "        vertical-align: middle;\n",
       "    }\n",
       "\n",
       "    .dataframe tbody tr th {\n",
       "        vertical-align: top;\n",
       "    }\n",
       "\n",
       "    .dataframe thead th {\n",
       "        text-align: right;\n",
       "    }\n",
       "</style>\n",
       "<table border=\"1\" class=\"dataframe\">\n",
       "  <thead>\n",
       "    <tr style=\"text-align: right;\">\n",
       "      <th></th>\n",
       "      <th>nacionalidad</th>\n",
       "      <th>genero</th>\n",
       "      <th>fecha_nacimiento</th>\n",
       "      <th>fecha_reg_aspirante</th>\n",
       "      <th>id_usuario</th>\n",
       "      <th>num_accesos</th>\n",
       "      <th>habilitado</th>\n",
       "      <th>fec_ult_acceso</th>\n",
       "    </tr>\n",
       "  </thead>\n",
       "  <tbody>\n",
       "    <tr>\n",
       "      <th>0</th>\n",
       "      <td>ECUATORIANA</td>\n",
       "      <td>F</td>\n",
       "      <td>1990-05-26 00:00:00.000</td>\n",
       "      <td>2018-08-28 14:31:05.000</td>\n",
       "      <td>150</td>\n",
       "      <td>58</td>\n",
       "      <td>0</td>\n",
       "      <td>2019-04-17 10:25:07.000</td>\n",
       "    </tr>\n",
       "    <tr>\n",
       "      <th>1</th>\n",
       "      <td>ECUADOR</td>\n",
       "      <td>M</td>\n",
       "      <td>None</td>\n",
       "      <td>2013-08-14 14:42:39.467</td>\n",
       "      <td>411</td>\n",
       "      <td>92</td>\n",
       "      <td>1</td>\n",
       "      <td>2016-02-12 11:46:10.000</td>\n",
       "    </tr>\n",
       "    <tr>\n",
       "      <th>2</th>\n",
       "      <td>ECUADOR</td>\n",
       "      <td>F</td>\n",
       "      <td>None</td>\n",
       "      <td>2013-08-14 14:42:38.577</td>\n",
       "      <td>414</td>\n",
       "      <td>56</td>\n",
       "      <td>1</td>\n",
       "      <td>2015-02-26 12:16:50.000</td>\n",
       "    </tr>\n",
       "    <tr>\n",
       "      <th>3</th>\n",
       "      <td>ECUADOR</td>\n",
       "      <td>M</td>\n",
       "      <td>None</td>\n",
       "      <td>2013-08-14 14:42:38.593</td>\n",
       "      <td>459</td>\n",
       "      <td>322</td>\n",
       "      <td>1</td>\n",
       "      <td>2019-08-20 22:28:08.000</td>\n",
       "    </tr>\n",
       "    <tr>\n",
       "      <th>4</th>\n",
       "      <td>ECUADOR</td>\n",
       "      <td>F</td>\n",
       "      <td>None</td>\n",
       "      <td>2013-08-14 15:16:30.857</td>\n",
       "      <td>460</td>\n",
       "      <td>2</td>\n",
       "      <td>1</td>\n",
       "      <td>2013-08-23 17:17:02.000</td>\n",
       "    </tr>\n",
       "  </tbody>\n",
       "</table>\n",
       "</div>"
      ],
      "text/plain": [
       "  nacionalidad genero         fecha_nacimiento      fecha_reg_aspirante  \\\n",
       "0  ECUATORIANA      F  1990-05-26 00:00:00.000  2018-08-28 14:31:05.000   \n",
       "1      ECUADOR      M                     None  2013-08-14 14:42:39.467   \n",
       "2      ECUADOR      F                     None  2013-08-14 14:42:38.577   \n",
       "3      ECUADOR      M                     None  2013-08-14 14:42:38.593   \n",
       "4      ECUADOR      F                     None  2013-08-14 15:16:30.857   \n",
       "\n",
       "   id_usuario  num_accesos  habilitado           fec_ult_acceso  \n",
       "0         150           58           0  2019-04-17 10:25:07.000  \n",
       "1         411           92           1  2016-02-12 11:46:10.000  \n",
       "2         414           56           1  2015-02-26 12:16:50.000  \n",
       "3         459          322           1  2019-08-20 22:28:08.000  \n",
       "4         460            2           1  2013-08-23 17:17:02.000  "
      ]
     },
     "execution_count": 6,
     "metadata": {},
     "output_type": "execute_result"
    }
   ],
   "source": [
    "df_2.head()"
   ]
  },
  {
   "cell_type": "code",
   "execution_count": 7,
   "id": "5f46f06c-6ed2-43e6-831f-206ec242ab0f",
   "metadata": {},
   "outputs": [
    {
     "name": "stdout",
     "output_type": "stream",
     "text": [
      "<class 'pandas.core.frame.DataFrame'>\n",
      "RangeIndex: 23322 entries, 0 to 23321\n",
      "Data columns (total 8 columns):\n",
      " #   Column               Non-Null Count  Dtype \n",
      "---  ------               --------------  ----- \n",
      " 0   nacionalidad         22037 non-null  object\n",
      " 1   genero               21149 non-null  object\n",
      " 2   fecha_nacimiento     15650 non-null  object\n",
      " 3   fecha_reg_aspirante  23322 non-null  object\n",
      " 4   id_usuario           23322 non-null  int64 \n",
      " 5   num_accesos          23322 non-null  int64 \n",
      " 6   habilitado           23322 non-null  int64 \n",
      " 7   fec_ult_acceso       23322 non-null  object\n",
      "dtypes: int64(3), object(5)\n",
      "memory usage: 1.4+ MB\n"
     ]
    }
   ],
   "source": [
    "df_2.info()"
   ]
  },
  {
   "cell_type": "markdown",
   "id": "c23625ef-c13a-42c6-a2ee-4cbd3a69602b",
   "metadata": {},
   "source": [
    "### Unimos las 2 bases de datos"
   ]
  },
  {
   "cell_type": "code",
   "execution_count": 8,
   "id": "a8e3f61b-a84f-43d4-8f1d-9054d95cb834",
   "metadata": {},
   "outputs": [
    {
     "data": {
      "text/html": [
       "<div>\n",
       "<style scoped>\n",
       "    .dataframe tbody tr th:only-of-type {\n",
       "        vertical-align: middle;\n",
       "    }\n",
       "\n",
       "    .dataframe tbody tr th {\n",
       "        vertical-align: top;\n",
       "    }\n",
       "\n",
       "    .dataframe thead th {\n",
       "        text-align: right;\n",
       "    }\n",
       "</style>\n",
       "<table border=\"1\" class=\"dataframe\">\n",
       "  <thead>\n",
       "    <tr style=\"text-align: right;\">\n",
       "      <th></th>\n",
       "      <th>id_aspirante</th>\n",
       "      <th>usuarios_id</th>\n",
       "      <th>nombres</th>\n",
       "      <th>apellidos</th>\n",
       "      <th>carrera</th>\n",
       "      <th>prov_nace</th>\n",
       "      <th>canton_nace</th>\n",
       "      <th>nacionalidad</th>\n",
       "      <th>genero</th>\n",
       "      <th>fecha_nacimiento</th>\n",
       "      <th>fecha_reg_aspirante</th>\n",
       "      <th>id_usuario</th>\n",
       "      <th>num_accesos</th>\n",
       "      <th>habilitado</th>\n",
       "      <th>fec_ult_acceso</th>\n",
       "    </tr>\n",
       "  </thead>\n",
       "  <tbody>\n",
       "    <tr>\n",
       "      <th>0</th>\n",
       "      <td>11705</td>\n",
       "      <td>150</td>\n",
       "      <td>ROXANA LILIBETH</td>\n",
       "      <td>ROMERO VERA</td>\n",
       "      <td>EDUCACION INICIAL</td>\n",
       "      <td>SANTA ELENA</td>\n",
       "      <td>SANTA ELENA</td>\n",
       "      <td>ECUATORIANA</td>\n",
       "      <td>F</td>\n",
       "      <td>1990-05-26 00:00:00.000</td>\n",
       "      <td>2018-08-28 14:31:05.000</td>\n",
       "      <td>150</td>\n",
       "      <td>58</td>\n",
       "      <td>0</td>\n",
       "      <td>2019-04-17 10:25:07.000</td>\n",
       "    </tr>\n",
       "    <tr>\n",
       "      <th>1</th>\n",
       "      <td>3</td>\n",
       "      <td>411</td>\n",
       "      <td>JORGE LUIS</td>\n",
       "      <td>YELA RIVERA</td>\n",
       "      <td>INGENIERIA EN PETROLEO</td>\n",
       "      <td>OTRA</td>\n",
       "      <td>OTRO</td>\n",
       "      <td>ECUADOR</td>\n",
       "      <td>M</td>\n",
       "      <td>None</td>\n",
       "      <td>2013-08-14 14:42:39.467</td>\n",
       "      <td>411</td>\n",
       "      <td>92</td>\n",
       "      <td>1</td>\n",
       "      <td>2016-02-12 11:46:10.000</td>\n",
       "    </tr>\n",
       "    <tr>\n",
       "      <th>2</th>\n",
       "      <td>1</td>\n",
       "      <td>414</td>\n",
       "      <td>CARMEN CECILIA</td>\n",
       "      <td>AGURTO TORRES</td>\n",
       "      <td>ADMINISTRACION DE EMPRESAS</td>\n",
       "      <td>SANTA ELENA</td>\n",
       "      <td>LA LIBERTAD</td>\n",
       "      <td>ECUADOR</td>\n",
       "      <td>F</td>\n",
       "      <td>None</td>\n",
       "      <td>2013-08-14 14:42:38.577</td>\n",
       "      <td>414</td>\n",
       "      <td>56</td>\n",
       "      <td>1</td>\n",
       "      <td>2015-02-26 12:16:50.000</td>\n",
       "    </tr>\n",
       "    <tr>\n",
       "      <th>3</th>\n",
       "      <td>2</td>\n",
       "      <td>459</td>\n",
       "      <td>JOEL OSWALDO</td>\n",
       "      <td>ALEJANDRO CRUZ</td>\n",
       "      <td>ADMINISTRACION DE EMPRESAS</td>\n",
       "      <td>SANTA ELENA</td>\n",
       "      <td>SANTA ELENA</td>\n",
       "      <td>ECUADOR</td>\n",
       "      <td>M</td>\n",
       "      <td>None</td>\n",
       "      <td>2013-08-14 14:42:38.593</td>\n",
       "      <td>459</td>\n",
       "      <td>322</td>\n",
       "      <td>1</td>\n",
       "      <td>2019-08-20 22:28:08.000</td>\n",
       "    </tr>\n",
       "    <tr>\n",
       "      <th>4</th>\n",
       "      <td>4</td>\n",
       "      <td>460</td>\n",
       "      <td>SANDY MELISSA</td>\n",
       "      <td>YAGUAL RIVAS</td>\n",
       "      <td>INGENIERIA EN PETROLEO</td>\n",
       "      <td>GUAYAS</td>\n",
       "      <td>GUAYAQUIL</td>\n",
       "      <td>ECUADOR</td>\n",
       "      <td>F</td>\n",
       "      <td>None</td>\n",
       "      <td>2013-08-14 15:16:30.857</td>\n",
       "      <td>460</td>\n",
       "      <td>2</td>\n",
       "      <td>1</td>\n",
       "      <td>2013-08-23 17:17:02.000</td>\n",
       "    </tr>\n",
       "  </tbody>\n",
       "</table>\n",
       "</div>"
      ],
      "text/plain": [
       "   id_aspirante  usuarios_id          nombres       apellidos  \\\n",
       "0         11705          150  ROXANA LILIBETH     ROMERO VERA   \n",
       "1             3          411       JORGE LUIS     YELA RIVERA   \n",
       "2             1          414   CARMEN CECILIA   AGURTO TORRES   \n",
       "3             2          459     JOEL OSWALDO  ALEJANDRO CRUZ   \n",
       "4             4          460    SANDY MELISSA    YAGUAL RIVAS   \n",
       "\n",
       "                      carrera    prov_nace  canton_nace nacionalidad genero  \\\n",
       "0           EDUCACION INICIAL  SANTA ELENA  SANTA ELENA  ECUATORIANA      F   \n",
       "1      INGENIERIA EN PETROLEO         OTRA         OTRO      ECUADOR      M   \n",
       "2  ADMINISTRACION DE EMPRESAS  SANTA ELENA  LA LIBERTAD      ECUADOR      F   \n",
       "3  ADMINISTRACION DE EMPRESAS  SANTA ELENA  SANTA ELENA      ECUADOR      M   \n",
       "4      INGENIERIA EN PETROLEO       GUAYAS    GUAYAQUIL      ECUADOR      F   \n",
       "\n",
       "          fecha_nacimiento      fecha_reg_aspirante  id_usuario  num_accesos  \\\n",
       "0  1990-05-26 00:00:00.000  2018-08-28 14:31:05.000         150           58   \n",
       "1                     None  2013-08-14 14:42:39.467         411           92   \n",
       "2                     None  2013-08-14 14:42:38.577         414           56   \n",
       "3                     None  2013-08-14 14:42:38.593         459          322   \n",
       "4                     None  2013-08-14 15:16:30.857         460            2   \n",
       "\n",
       "   habilitado           fec_ult_acceso  \n",
       "0           0  2019-04-17 10:25:07.000  \n",
       "1           1  2016-02-12 11:46:10.000  \n",
       "2           1  2015-02-26 12:16:50.000  \n",
       "3           1  2019-08-20 22:28:08.000  \n",
       "4           1  2013-08-23 17:17:02.000  "
      ]
     },
     "execution_count": 8,
     "metadata": {},
     "output_type": "execute_result"
    }
   ],
   "source": [
    "#df_3 = pd.concat([df_1, df_2])\n",
    "df_3 = pd.merge(df_1, df_2, left_on='usuarios_id', right_on='id_usuario', how='left')\n",
    "df_3.head()"
   ]
  },
  {
   "cell_type": "code",
   "execution_count": 9,
   "id": "9770992a-8744-4735-bb76-716dca6e909c",
   "metadata": {},
   "outputs": [
    {
     "name": "stdout",
     "output_type": "stream",
     "text": [
      "<class 'pandas.core.frame.DataFrame'>\n",
      "RangeIndex: 23322 entries, 0 to 23321\n",
      "Data columns (total 15 columns):\n",
      " #   Column               Non-Null Count  Dtype \n",
      "---  ------               --------------  ----- \n",
      " 0   id_aspirante         23322 non-null  int64 \n",
      " 1   usuarios_id          23322 non-null  int64 \n",
      " 2   nombres              23322 non-null  object\n",
      " 3   apellidos            23322 non-null  object\n",
      " 4   carrera              23322 non-null  object\n",
      " 5   prov_nace            20407 non-null  object\n",
      " 6   canton_nace          20407 non-null  object\n",
      " 7   nacionalidad         22037 non-null  object\n",
      " 8   genero               21149 non-null  object\n",
      " 9   fecha_nacimiento     15650 non-null  object\n",
      " 10  fecha_reg_aspirante  23322 non-null  object\n",
      " 11  id_usuario           23322 non-null  int64 \n",
      " 12  num_accesos          23322 non-null  int64 \n",
      " 13  habilitado           23322 non-null  int64 \n",
      " 14  fec_ult_acceso       23322 non-null  object\n",
      "dtypes: int64(5), object(10)\n",
      "memory usage: 2.7+ MB\n"
     ]
    }
   ],
   "source": [
    "df_3.info()"
   ]
  },
  {
   "cell_type": "markdown",
   "id": "a0338238-fa66-428f-977c-8d4c68d867d1",
   "metadata": {},
   "source": [
    "### Visualizamos la cantidad de campos nulos"
   ]
  },
  {
   "cell_type": "code",
   "execution_count": 10,
   "id": "ccd0d107-bad2-4b27-9a3a-53ce11595bef",
   "metadata": {},
   "outputs": [
    {
     "data": {
      "text/plain": [
       "id_aspirante              0\n",
       "usuarios_id               0\n",
       "nombres                   0\n",
       "apellidos                 0\n",
       "carrera                   0\n",
       "prov_nace              2915\n",
       "canton_nace            2915\n",
       "nacionalidad           1285\n",
       "genero                 2173\n",
       "fecha_nacimiento       7672\n",
       "fecha_reg_aspirante       0\n",
       "id_usuario                0\n",
       "num_accesos               0\n",
       "habilitado                0\n",
       "fec_ult_acceso            0\n",
       "dtype: int64"
      ]
     },
     "execution_count": 10,
     "metadata": {},
     "output_type": "execute_result"
    }
   ],
   "source": [
    "df_3.isnull().sum() # Revizar si existen datos nulos"
   ]
  },
  {
   "cell_type": "markdown",
   "id": "69266938-778f-4d50-8eed-9bebfbc28f98",
   "metadata": {},
   "source": [
    "### Tomamos un estudiante de muestra y procedemos a crear datos random\n",
    "### para ir ralizando los cambios al datafram y no perder la mayoria de datos"
   ]
  },
  {
   "cell_type": "code",
   "execution_count": 11,
   "id": "ea420948-cb11-4963-94b8-3b59c1b84461",
   "metadata": {},
   "outputs": [
    {
     "data": {
      "text/plain": [
       "id_aspirante                               3834\n",
       "usuarios_id                               13704\n",
       "nombres                           ANA JACKELINE\n",
       "apellidos                       TORRES SANCHÃZ\n",
       "carrera                CONTABILIDAD Y AUDITORIA\n",
       "prov_nace                                   NaN\n",
       "canton_nace                                 NaN\n",
       "nacionalidad                               None\n",
       "genero                                        F\n",
       "fecha_nacimiento                           None\n",
       "fecha_reg_aspirante     2015-08-24 12:47:32.000\n",
       "id_usuario                                13704\n",
       "num_accesos                                 346\n",
       "habilitado                                    1\n",
       "fec_ult_acceso          2021-05-13 19:20:08.000\n",
       "Name: 3871, dtype: object"
      ]
     },
     "execution_count": 11,
     "metadata": {},
     "output_type": "execute_result"
    }
   ],
   "source": [
    "df_3.iloc[3871]"
   ]
  },
  {
   "cell_type": "markdown",
   "id": "df9a2420-89b8-4874-afdd-7636bfb1859c",
   "metadata": {},
   "source": [
    "### Cambiamos fechas de nacimiento con valores NUll a valores random"
   ]
  },
  {
   "cell_type": "code",
   "execution_count": 12,
   "id": "1c583800-2c5e-4f45-a39b-59d9e00692f7",
   "metadata": {},
   "outputs": [],
   "source": [
    "# Funcion para generar fechas random entre los anios 1950 a 2010\n",
    "def random_fecha_nacimiento(start_year=1980, end_year=2010):\n",
    "    start_date = datetime(start_year, 1, 1)\n",
    "    end_date = datetime(end_year, 12, 31)\n",
    "    delta_days = (end_date - start_date).days\n",
    "    random_days = np.random.randint(0, delta_days)\n",
    "    return start_date + timedelta(days=random_days)"
   ]
  },
  {
   "cell_type": "code",
   "execution_count": 13,
   "id": "d9c1e116-5b4a-4a85-81b2-5c0e5d03bb85",
   "metadata": {},
   "outputs": [],
   "source": [
    "# Replazamos NAN con fechas de nacimiento\n",
    "df_3['fecha_nacimiento'] = df_3['fecha_nacimiento'].apply(\n",
    "    lambda x: random_fecha_nacimiento() if pd.isna(x) else x\n",
    ")"
   ]
  },
  {
   "cell_type": "code",
   "execution_count": 14,
   "id": "4f6cc223-1aa2-429e-bd90-e2cea27bc93f",
   "metadata": {},
   "outputs": [
    {
     "data": {
      "text/plain": [
       "id_aspirante                               3834\n",
       "usuarios_id                               13704\n",
       "nombres                           ANA JACKELINE\n",
       "apellidos                       TORRES SANCHÃZ\n",
       "carrera                CONTABILIDAD Y AUDITORIA\n",
       "prov_nace                                   NaN\n",
       "canton_nace                                 NaN\n",
       "nacionalidad                               None\n",
       "genero                                        F\n",
       "fecha_nacimiento            1981-03-05 00:00:00\n",
       "fecha_reg_aspirante     2015-08-24 12:47:32.000\n",
       "id_usuario                                13704\n",
       "num_accesos                                 346\n",
       "habilitado                                    1\n",
       "fec_ult_acceso          2021-05-13 19:20:08.000\n",
       "Name: 3871, dtype: object"
      ]
     },
     "execution_count": 14,
     "metadata": {},
     "output_type": "execute_result"
    }
   ],
   "source": [
    "df_3.iloc[3871]"
   ]
  },
  {
   "cell_type": "markdown",
   "id": "9e5d0d66-c996-46b6-8e40-01c8d8172d7c",
   "metadata": {},
   "source": [
    "### Remplazamos valores nulos por valores random de provincias"
   ]
  },
  {
   "cell_type": "code",
   "execution_count": 15,
   "id": "eed6fbaf-51fc-4aea-bbc8-227d57131353",
   "metadata": {},
   "outputs": [],
   "source": [
    "# Algunas provincias con sus cantones\n",
    "ecuador_locaciones = {\n",
    "    'Pichincha': ['Quito', 'Cayambe', 'Rumiñahui'],\n",
    "    'Santa Elena': ['Santa Elena', 'Salinas', 'La Libertad'],\n",
    "    'Guayas': ['Guayaquil', 'Daule', 'Samborondón'],\n",
    "    'Azuay': ['Cuenca', 'Gualaceo', 'Paute'],\n",
    "    'Manabí': ['Portoviejo', 'Manta', 'Chone']\n",
    "    # Anadir mas provincias y cantones si se necesita\n",
    "}\n",
    "\n",
    "# Convert province list\n",
    "provincias = list(ecuador_locaciones.keys())\n",
    "\n",
    "# Replace nulls in prov_nace with random provinces\n",
    "df_3['prov_nace'] = df_3['prov_nace'].apply(\n",
    "    lambda x: random.choice(provincias) if pd.isna(x) or str(x).strip().upper() in ['OTRO', 'OTRA'] else x\n",
    ")\n",
    "\n"
   ]
  },
  {
   "cell_type": "code",
   "execution_count": 16,
   "id": "1a7e3a2f-4f1b-4d84-a1ca-b087b452144c",
   "metadata": {},
   "outputs": [
    {
     "data": {
      "text/plain": [
       "id_aspirante                               3834\n",
       "usuarios_id                               13704\n",
       "nombres                           ANA JACKELINE\n",
       "apellidos                       TORRES SANCHÃZ\n",
       "carrera                CONTABILIDAD Y AUDITORIA\n",
       "prov_nace                                Manabí\n",
       "canton_nace                                 NaN\n",
       "nacionalidad                               None\n",
       "genero                                        F\n",
       "fecha_nacimiento            1981-03-05 00:00:00\n",
       "fecha_reg_aspirante     2015-08-24 12:47:32.000\n",
       "id_usuario                                13704\n",
       "num_accesos                                 346\n",
       "habilitado                                    1\n",
       "fec_ult_acceso          2021-05-13 19:20:08.000\n",
       "Name: 3871, dtype: object"
      ]
     },
     "execution_count": 16,
     "metadata": {},
     "output_type": "execute_result"
    }
   ],
   "source": [
    "df_3.iloc[3871]"
   ]
  },
  {
   "cell_type": "markdown",
   "id": "d2adfa88-b2bd-4983-a5ee-f46642a4b47a",
   "metadata": {},
   "source": [
    "#### Remplazamos cantones"
   ]
  },
  {
   "cell_type": "code",
   "execution_count": 17,
   "id": "183de8ad-ce0e-427e-8245-70337c98c4eb",
   "metadata": {},
   "outputs": [],
   "source": [
    "# Remplazamos nulls de canton_nace basado en prov_nace\n",
    "def assign_random_canton(row):\n",
    "    canton = row['canton_nace']\n",
    "    if pd.isna(canton) or str(canton).strip().upper() in ['OTRO', 'OTRA']:\n",
    "        prov = row['prov_nace']\n",
    "        return random.choice(ecuador_locaciones.get(prov, []))\n",
    "    return canton\n",
    "\n",
    "df_3['canton_nace'] = df_3.apply(assign_random_canton, axis=1)"
   ]
  },
  {
   "cell_type": "code",
   "execution_count": 18,
   "id": "4714c36b-77f8-4755-b38d-f6b9aa5566cd",
   "metadata": {},
   "outputs": [
    {
     "data": {
      "text/plain": [
       "id_aspirante                               3834\n",
       "usuarios_id                               13704\n",
       "nombres                           ANA JACKELINE\n",
       "apellidos                       TORRES SANCHÃZ\n",
       "carrera                CONTABILIDAD Y AUDITORIA\n",
       "prov_nace                                Manabí\n",
       "canton_nace                               Chone\n",
       "nacionalidad                               None\n",
       "genero                                        F\n",
       "fecha_nacimiento            1981-03-05 00:00:00\n",
       "fecha_reg_aspirante     2015-08-24 12:47:32.000\n",
       "id_usuario                                13704\n",
       "num_accesos                                 346\n",
       "habilitado                                    1\n",
       "fec_ult_acceso          2021-05-13 19:20:08.000\n",
       "Name: 3871, dtype: object"
      ]
     },
     "execution_count": 18,
     "metadata": {},
     "output_type": "execute_result"
    }
   ],
   "source": [
    "df_3.iloc[3871]"
   ]
  },
  {
   "cell_type": "markdown",
   "id": "d817e0d9-0734-46d0-a89e-f3f9dc8d942a",
   "metadata": {},
   "source": [
    "### Cambiamos la nacionalidad a Ecuatoriana si es nulo el campo o si es diferente a la palabra Ecuatoriana"
   ]
  },
  {
   "cell_type": "code",
   "execution_count": 19,
   "id": "19f1f160-f7c3-4738-9611-6913343184fa",
   "metadata": {},
   "outputs": [],
   "source": [
    "df_3['nacionalidad'] = df_3['nacionalidad'].apply(lambda x: 'ECUATORIANA' if pd.isna(x) or str(x).strip().upper() != 'ECUATORIANA' else x)"
   ]
  },
  {
   "cell_type": "code",
   "execution_count": 20,
   "id": "798176f3-89f8-455c-9218-42dbc9661fdc",
   "metadata": {},
   "outputs": [
    {
     "data": {
      "text/plain": [
       "id_aspirante                               3834\n",
       "usuarios_id                               13704\n",
       "nombres                           ANA JACKELINE\n",
       "apellidos                       TORRES SANCHÃZ\n",
       "carrera                CONTABILIDAD Y AUDITORIA\n",
       "prov_nace                                Manabí\n",
       "canton_nace                               Chone\n",
       "nacionalidad                        ECUATORIANA\n",
       "genero                                        F\n",
       "fecha_nacimiento            1981-03-05 00:00:00\n",
       "fecha_reg_aspirante     2015-08-24 12:47:32.000\n",
       "id_usuario                                13704\n",
       "num_accesos                                 346\n",
       "habilitado                                    1\n",
       "fec_ult_acceso          2021-05-13 19:20:08.000\n",
       "Name: 3871, dtype: object"
      ]
     },
     "execution_count": 20,
     "metadata": {},
     "output_type": "execute_result"
    }
   ],
   "source": [
    "df_3.iloc[3871]"
   ]
  },
  {
   "cell_type": "markdown",
   "id": "0ae3bc85-b997-4f4e-88ce-8bb43bcbd2ca",
   "metadata": {},
   "source": [
    "### Cambiamos el genero de F y M a Femenino y Masculino respectivamente"
   ]
  },
  {
   "cell_type": "code",
   "execution_count": 21,
   "id": "3129404c-65e8-473d-9f51-7faf609feb6b",
   "metadata": {},
   "outputs": [],
   "source": [
    "df_3['genero'] = df_3['genero'].replace({'F': 'FEMENINO', 'M': 'MASCULINO'})"
   ]
  },
  {
   "cell_type": "code",
   "execution_count": 22,
   "id": "0a148474-8012-495b-bda5-4585439ab619",
   "metadata": {},
   "outputs": [
    {
     "data": {
      "text/plain": [
       "id_aspirante                               3834\n",
       "usuarios_id                               13704\n",
       "nombres                           ANA JACKELINE\n",
       "apellidos                       TORRES SANCHÃZ\n",
       "carrera                CONTABILIDAD Y AUDITORIA\n",
       "prov_nace                                Manabí\n",
       "canton_nace                               Chone\n",
       "nacionalidad                        ECUATORIANA\n",
       "genero                                 FEMENINO\n",
       "fecha_nacimiento            1981-03-05 00:00:00\n",
       "fecha_reg_aspirante     2015-08-24 12:47:32.000\n",
       "id_usuario                                13704\n",
       "num_accesos                                 346\n",
       "habilitado                                    1\n",
       "fec_ult_acceso          2021-05-13 19:20:08.000\n",
       "Name: 3871, dtype: object"
      ]
     },
     "execution_count": 22,
     "metadata": {},
     "output_type": "execute_result"
    }
   ],
   "source": [
    "df_3.iloc[3871]"
   ]
  },
  {
   "cell_type": "markdown",
   "id": "0132117a-820f-466b-9c5b-01229644ab80",
   "metadata": {},
   "source": [
    "### Eliminamos las filas vacias de genero"
   ]
  },
  {
   "cell_type": "code",
   "execution_count": 23,
   "id": "e565930d-0726-456e-af97-8821cc1be770",
   "metadata": {},
   "outputs": [],
   "source": [
    "df_3 = df_3.dropna(subset=['genero'])"
   ]
  },
  {
   "cell_type": "code",
   "execution_count": 24,
   "id": "7acb831e-7ec9-41d9-9304-845158317438",
   "metadata": {},
   "outputs": [
    {
     "data": {
      "text/plain": [
       "id_aspirante           0\n",
       "usuarios_id            0\n",
       "nombres                0\n",
       "apellidos              0\n",
       "carrera                0\n",
       "prov_nace              0\n",
       "canton_nace            0\n",
       "nacionalidad           0\n",
       "genero                 0\n",
       "fecha_nacimiento       0\n",
       "fecha_reg_aspirante    0\n",
       "id_usuario             0\n",
       "num_accesos            0\n",
       "habilitado             0\n",
       "fec_ult_acceso         0\n",
       "dtype: int64"
      ]
     },
     "execution_count": 24,
     "metadata": {},
     "output_type": "execute_result"
    }
   ],
   "source": [
    "df_3.isnull().sum() # Revizar si existen datos nulos"
   ]
  },
  {
   "cell_type": "markdown",
   "id": "d0e04a74-258d-4734-9f80-84554a07866f",
   "metadata": {},
   "source": [
    "#### Cambiamos todas las columnas a Mayusculas"
   ]
  },
  {
   "cell_type": "code",
   "execution_count": 25,
   "id": "52486d84-fa0c-43fc-9116-44d3fbaaf739",
   "metadata": {},
   "outputs": [],
   "source": [
    "for col in df_3.select_dtypes(include='object').columns:\n",
    "    df_3.loc[:, col] = df_3[col].map(lambda x: x.upper() if isinstance(x, str) else x)"
   ]
  },
  {
   "cell_type": "markdown",
   "id": "423a7640-d4e8-4b0d-98c1-3da02a622941",
   "metadata": {},
   "source": [
    "### Eliminamos Espacios en blanco Iniciales y finales"
   ]
  },
  {
   "cell_type": "code",
   "execution_count": 26,
   "id": "5d1acb2f-a82f-4c82-b381-b60bb9163db9",
   "metadata": {},
   "outputs": [],
   "source": [
    "df_3.loc[:, col] = df_3[col].map(lambda x: x.strip().upper() if isinstance(x, str) else x)"
   ]
  },
  {
   "cell_type": "code",
   "execution_count": 27,
   "id": "fc1e7097-d241-4b4d-8a7e-ccf7c198ad0d",
   "metadata": {},
   "outputs": [
    {
     "data": {
      "text/html": [
       "<div>\n",
       "<style scoped>\n",
       "    .dataframe tbody tr th:only-of-type {\n",
       "        vertical-align: middle;\n",
       "    }\n",
       "\n",
       "    .dataframe tbody tr th {\n",
       "        vertical-align: top;\n",
       "    }\n",
       "\n",
       "    .dataframe thead th {\n",
       "        text-align: right;\n",
       "    }\n",
       "</style>\n",
       "<table border=\"1\" class=\"dataframe\">\n",
       "  <thead>\n",
       "    <tr style=\"text-align: right;\">\n",
       "      <th></th>\n",
       "      <th>id_aspirante</th>\n",
       "      <th>usuarios_id</th>\n",
       "      <th>nombres</th>\n",
       "      <th>apellidos</th>\n",
       "      <th>carrera</th>\n",
       "      <th>prov_nace</th>\n",
       "      <th>canton_nace</th>\n",
       "      <th>nacionalidad</th>\n",
       "      <th>genero</th>\n",
       "      <th>fecha_nacimiento</th>\n",
       "      <th>fecha_reg_aspirante</th>\n",
       "      <th>id_usuario</th>\n",
       "      <th>num_accesos</th>\n",
       "      <th>habilitado</th>\n",
       "      <th>fec_ult_acceso</th>\n",
       "    </tr>\n",
       "  </thead>\n",
       "  <tbody>\n",
       "    <tr>\n",
       "      <th>0</th>\n",
       "      <td>11705</td>\n",
       "      <td>150</td>\n",
       "      <td>ROXANA LILIBETH</td>\n",
       "      <td>ROMERO VERA</td>\n",
       "      <td>EDUCACION INICIAL</td>\n",
       "      <td>SANTA ELENA</td>\n",
       "      <td>SANTA ELENA</td>\n",
       "      <td>ECUATORIANA</td>\n",
       "      <td>FEMENINO</td>\n",
       "      <td>1990-05-26 00:00:00.000</td>\n",
       "      <td>2018-08-28 14:31:05.000</td>\n",
       "      <td>150</td>\n",
       "      <td>58</td>\n",
       "      <td>0</td>\n",
       "      <td>2019-04-17 10:25:07.000</td>\n",
       "    </tr>\n",
       "    <tr>\n",
       "      <th>1</th>\n",
       "      <td>3</td>\n",
       "      <td>411</td>\n",
       "      <td>JORGE LUIS</td>\n",
       "      <td>YELA RIVERA</td>\n",
       "      <td>INGENIERIA EN PETROLEO</td>\n",
       "      <td>PICHINCHA</td>\n",
       "      <td>QUITO</td>\n",
       "      <td>ECUATORIANA</td>\n",
       "      <td>MASCULINO</td>\n",
       "      <td>2008-04-25 00:00:00</td>\n",
       "      <td>2013-08-14 14:42:39.467</td>\n",
       "      <td>411</td>\n",
       "      <td>92</td>\n",
       "      <td>1</td>\n",
       "      <td>2016-02-12 11:46:10.000</td>\n",
       "    </tr>\n",
       "    <tr>\n",
       "      <th>2</th>\n",
       "      <td>1</td>\n",
       "      <td>414</td>\n",
       "      <td>CARMEN CECILIA</td>\n",
       "      <td>AGURTO TORRES</td>\n",
       "      <td>ADMINISTRACION DE EMPRESAS</td>\n",
       "      <td>SANTA ELENA</td>\n",
       "      <td>LA LIBERTAD</td>\n",
       "      <td>ECUATORIANA</td>\n",
       "      <td>FEMENINO</td>\n",
       "      <td>1988-04-17 00:00:00</td>\n",
       "      <td>2013-08-14 14:42:38.577</td>\n",
       "      <td>414</td>\n",
       "      <td>56</td>\n",
       "      <td>1</td>\n",
       "      <td>2015-02-26 12:16:50.000</td>\n",
       "    </tr>\n",
       "    <tr>\n",
       "      <th>3</th>\n",
       "      <td>2</td>\n",
       "      <td>459</td>\n",
       "      <td>JOEL OSWALDO</td>\n",
       "      <td>ALEJANDRO CRUZ</td>\n",
       "      <td>ADMINISTRACION DE EMPRESAS</td>\n",
       "      <td>SANTA ELENA</td>\n",
       "      <td>SANTA ELENA</td>\n",
       "      <td>ECUATORIANA</td>\n",
       "      <td>MASCULINO</td>\n",
       "      <td>2009-03-09 00:00:00</td>\n",
       "      <td>2013-08-14 14:42:38.593</td>\n",
       "      <td>459</td>\n",
       "      <td>322</td>\n",
       "      <td>1</td>\n",
       "      <td>2019-08-20 22:28:08.000</td>\n",
       "    </tr>\n",
       "    <tr>\n",
       "      <th>4</th>\n",
       "      <td>4</td>\n",
       "      <td>460</td>\n",
       "      <td>SANDY MELISSA</td>\n",
       "      <td>YAGUAL RIVAS</td>\n",
       "      <td>INGENIERIA EN PETROLEO</td>\n",
       "      <td>GUAYAS</td>\n",
       "      <td>GUAYAQUIL</td>\n",
       "      <td>ECUATORIANA</td>\n",
       "      <td>FEMENINO</td>\n",
       "      <td>2008-02-07 00:00:00</td>\n",
       "      <td>2013-08-14 15:16:30.857</td>\n",
       "      <td>460</td>\n",
       "      <td>2</td>\n",
       "      <td>1</td>\n",
       "      <td>2013-08-23 17:17:02.000</td>\n",
       "    </tr>\n",
       "  </tbody>\n",
       "</table>\n",
       "</div>"
      ],
      "text/plain": [
       "   id_aspirante  usuarios_id          nombres       apellidos  \\\n",
       "0         11705          150  ROXANA LILIBETH     ROMERO VERA   \n",
       "1             3          411       JORGE LUIS     YELA RIVERA   \n",
       "2             1          414   CARMEN CECILIA   AGURTO TORRES   \n",
       "3             2          459     JOEL OSWALDO  ALEJANDRO CRUZ   \n",
       "4             4          460    SANDY MELISSA    YAGUAL RIVAS   \n",
       "\n",
       "                      carrera    prov_nace  canton_nace nacionalidad  \\\n",
       "0           EDUCACION INICIAL  SANTA ELENA  SANTA ELENA  ECUATORIANA   \n",
       "1      INGENIERIA EN PETROLEO    PICHINCHA        QUITO  ECUATORIANA   \n",
       "2  ADMINISTRACION DE EMPRESAS  SANTA ELENA  LA LIBERTAD  ECUATORIANA   \n",
       "3  ADMINISTRACION DE EMPRESAS  SANTA ELENA  SANTA ELENA  ECUATORIANA   \n",
       "4      INGENIERIA EN PETROLEO       GUAYAS    GUAYAQUIL  ECUATORIANA   \n",
       "\n",
       "      genero         fecha_nacimiento      fecha_reg_aspirante  id_usuario  \\\n",
       "0   FEMENINO  1990-05-26 00:00:00.000  2018-08-28 14:31:05.000         150   \n",
       "1  MASCULINO      2008-04-25 00:00:00  2013-08-14 14:42:39.467         411   \n",
       "2   FEMENINO      1988-04-17 00:00:00  2013-08-14 14:42:38.577         414   \n",
       "3  MASCULINO      2009-03-09 00:00:00  2013-08-14 14:42:38.593         459   \n",
       "4   FEMENINO      2008-02-07 00:00:00  2013-08-14 15:16:30.857         460   \n",
       "\n",
       "   num_accesos  habilitado           fec_ult_acceso  \n",
       "0           58           0  2019-04-17 10:25:07.000  \n",
       "1           92           1  2016-02-12 11:46:10.000  \n",
       "2           56           1  2015-02-26 12:16:50.000  \n",
       "3          322           1  2019-08-20 22:28:08.000  \n",
       "4            2           1  2013-08-23 17:17:02.000  "
      ]
     },
     "execution_count": 27,
     "metadata": {},
     "output_type": "execute_result"
    }
   ],
   "source": [
    "df_3.head()"
   ]
  },
  {
   "cell_type": "code",
   "execution_count": 28,
   "id": "2f25df64-9844-4c33-a775-392180014e7d",
   "metadata": {},
   "outputs": [
    {
     "name": "stdout",
     "output_type": "stream",
     "text": [
      "<class 'pandas.core.frame.DataFrame'>\n",
      "Index: 21149 entries, 0 to 23321\n",
      "Data columns (total 15 columns):\n",
      " #   Column               Non-Null Count  Dtype \n",
      "---  ------               --------------  ----- \n",
      " 0   id_aspirante         21149 non-null  int64 \n",
      " 1   usuarios_id          21149 non-null  int64 \n",
      " 2   nombres              21149 non-null  object\n",
      " 3   apellidos            21149 non-null  object\n",
      " 4   carrera              21149 non-null  object\n",
      " 5   prov_nace            21149 non-null  object\n",
      " 6   canton_nace          21149 non-null  object\n",
      " 7   nacionalidad         21149 non-null  object\n",
      " 8   genero               21149 non-null  object\n",
      " 9   fecha_nacimiento     21149 non-null  object\n",
      " 10  fecha_reg_aspirante  21149 non-null  object\n",
      " 11  id_usuario           21149 non-null  int64 \n",
      " 12  num_accesos          21149 non-null  int64 \n",
      " 13  habilitado           21149 non-null  int64 \n",
      " 14  fec_ult_acceso       21149 non-null  object\n",
      "dtypes: int64(5), object(10)\n",
      "memory usage: 2.6+ MB\n"
     ]
    }
   ],
   "source": [
    "df_3.info()"
   ]
  },
  {
   "cell_type": "markdown",
   "id": "1ae2fee4-db3a-459b-8e32-ab60cc435535",
   "metadata": {},
   "source": [
    "# Generamos un dataFrame antes de guardar el archivo final"
   ]
  },
  {
   "cell_type": "code",
   "execution_count": 29,
   "id": "8cc6d19d-94f3-4f3a-934a-01a3ebee19af",
   "metadata": {},
   "outputs": [],
   "source": [
    "df_pd = pd.DataFrame(df_3)"
   ]
  },
  {
   "cell_type": "code",
   "execution_count": 30,
   "id": "c40a0174-fcc4-446a-81d3-4e718df0b19d",
   "metadata": {},
   "outputs": [
    {
     "data": {
      "text/html": [
       "<div>\n",
       "<style scoped>\n",
       "    .dataframe tbody tr th:only-of-type {\n",
       "        vertical-align: middle;\n",
       "    }\n",
       "\n",
       "    .dataframe tbody tr th {\n",
       "        vertical-align: top;\n",
       "    }\n",
       "\n",
       "    .dataframe thead th {\n",
       "        text-align: right;\n",
       "    }\n",
       "</style>\n",
       "<table border=\"1\" class=\"dataframe\">\n",
       "  <thead>\n",
       "    <tr style=\"text-align: right;\">\n",
       "      <th></th>\n",
       "      <th>id_aspirante</th>\n",
       "      <th>usuarios_id</th>\n",
       "      <th>nombres</th>\n",
       "      <th>apellidos</th>\n",
       "      <th>carrera</th>\n",
       "      <th>prov_nace</th>\n",
       "      <th>canton_nace</th>\n",
       "      <th>nacionalidad</th>\n",
       "      <th>genero</th>\n",
       "      <th>fecha_nacimiento</th>\n",
       "      <th>fecha_reg_aspirante</th>\n",
       "      <th>id_usuario</th>\n",
       "      <th>num_accesos</th>\n",
       "      <th>habilitado</th>\n",
       "      <th>fec_ult_acceso</th>\n",
       "    </tr>\n",
       "  </thead>\n",
       "  <tbody>\n",
       "    <tr>\n",
       "      <th>0</th>\n",
       "      <td>11705</td>\n",
       "      <td>150</td>\n",
       "      <td>ROXANA LILIBETH</td>\n",
       "      <td>ROMERO VERA</td>\n",
       "      <td>EDUCACION INICIAL</td>\n",
       "      <td>SANTA ELENA</td>\n",
       "      <td>SANTA ELENA</td>\n",
       "      <td>ECUATORIANA</td>\n",
       "      <td>FEMENINO</td>\n",
       "      <td>1990-05-26 00:00:00.000</td>\n",
       "      <td>2018-08-28 14:31:05.000</td>\n",
       "      <td>150</td>\n",
       "      <td>58</td>\n",
       "      <td>0</td>\n",
       "      <td>2019-04-17 10:25:07.000</td>\n",
       "    </tr>\n",
       "    <tr>\n",
       "      <th>1</th>\n",
       "      <td>3</td>\n",
       "      <td>411</td>\n",
       "      <td>JORGE LUIS</td>\n",
       "      <td>YELA RIVERA</td>\n",
       "      <td>INGENIERIA EN PETROLEO</td>\n",
       "      <td>PICHINCHA</td>\n",
       "      <td>QUITO</td>\n",
       "      <td>ECUATORIANA</td>\n",
       "      <td>MASCULINO</td>\n",
       "      <td>2008-04-25 00:00:00</td>\n",
       "      <td>2013-08-14 14:42:39.467</td>\n",
       "      <td>411</td>\n",
       "      <td>92</td>\n",
       "      <td>1</td>\n",
       "      <td>2016-02-12 11:46:10.000</td>\n",
       "    </tr>\n",
       "    <tr>\n",
       "      <th>2</th>\n",
       "      <td>1</td>\n",
       "      <td>414</td>\n",
       "      <td>CARMEN CECILIA</td>\n",
       "      <td>AGURTO TORRES</td>\n",
       "      <td>ADMINISTRACION DE EMPRESAS</td>\n",
       "      <td>SANTA ELENA</td>\n",
       "      <td>LA LIBERTAD</td>\n",
       "      <td>ECUATORIANA</td>\n",
       "      <td>FEMENINO</td>\n",
       "      <td>1988-04-17 00:00:00</td>\n",
       "      <td>2013-08-14 14:42:38.577</td>\n",
       "      <td>414</td>\n",
       "      <td>56</td>\n",
       "      <td>1</td>\n",
       "      <td>2015-02-26 12:16:50.000</td>\n",
       "    </tr>\n",
       "    <tr>\n",
       "      <th>3</th>\n",
       "      <td>2</td>\n",
       "      <td>459</td>\n",
       "      <td>JOEL OSWALDO</td>\n",
       "      <td>ALEJANDRO CRUZ</td>\n",
       "      <td>ADMINISTRACION DE EMPRESAS</td>\n",
       "      <td>SANTA ELENA</td>\n",
       "      <td>SANTA ELENA</td>\n",
       "      <td>ECUATORIANA</td>\n",
       "      <td>MASCULINO</td>\n",
       "      <td>2009-03-09 00:00:00</td>\n",
       "      <td>2013-08-14 14:42:38.593</td>\n",
       "      <td>459</td>\n",
       "      <td>322</td>\n",
       "      <td>1</td>\n",
       "      <td>2019-08-20 22:28:08.000</td>\n",
       "    </tr>\n",
       "    <tr>\n",
       "      <th>4</th>\n",
       "      <td>4</td>\n",
       "      <td>460</td>\n",
       "      <td>SANDY MELISSA</td>\n",
       "      <td>YAGUAL RIVAS</td>\n",
       "      <td>INGENIERIA EN PETROLEO</td>\n",
       "      <td>GUAYAS</td>\n",
       "      <td>GUAYAQUIL</td>\n",
       "      <td>ECUATORIANA</td>\n",
       "      <td>FEMENINO</td>\n",
       "      <td>2008-02-07 00:00:00</td>\n",
       "      <td>2013-08-14 15:16:30.857</td>\n",
       "      <td>460</td>\n",
       "      <td>2</td>\n",
       "      <td>1</td>\n",
       "      <td>2013-08-23 17:17:02.000</td>\n",
       "    </tr>\n",
       "  </tbody>\n",
       "</table>\n",
       "</div>"
      ],
      "text/plain": [
       "   id_aspirante  usuarios_id          nombres       apellidos  \\\n",
       "0         11705          150  ROXANA LILIBETH     ROMERO VERA   \n",
       "1             3          411       JORGE LUIS     YELA RIVERA   \n",
       "2             1          414   CARMEN CECILIA   AGURTO TORRES   \n",
       "3             2          459     JOEL OSWALDO  ALEJANDRO CRUZ   \n",
       "4             4          460    SANDY MELISSA    YAGUAL RIVAS   \n",
       "\n",
       "                      carrera    prov_nace  canton_nace nacionalidad  \\\n",
       "0           EDUCACION INICIAL  SANTA ELENA  SANTA ELENA  ECUATORIANA   \n",
       "1      INGENIERIA EN PETROLEO    PICHINCHA        QUITO  ECUATORIANA   \n",
       "2  ADMINISTRACION DE EMPRESAS  SANTA ELENA  LA LIBERTAD  ECUATORIANA   \n",
       "3  ADMINISTRACION DE EMPRESAS  SANTA ELENA  SANTA ELENA  ECUATORIANA   \n",
       "4      INGENIERIA EN PETROLEO       GUAYAS    GUAYAQUIL  ECUATORIANA   \n",
       "\n",
       "      genero         fecha_nacimiento      fecha_reg_aspirante  id_usuario  \\\n",
       "0   FEMENINO  1990-05-26 00:00:00.000  2018-08-28 14:31:05.000         150   \n",
       "1  MASCULINO      2008-04-25 00:00:00  2013-08-14 14:42:39.467         411   \n",
       "2   FEMENINO      1988-04-17 00:00:00  2013-08-14 14:42:38.577         414   \n",
       "3  MASCULINO      2009-03-09 00:00:00  2013-08-14 14:42:38.593         459   \n",
       "4   FEMENINO      2008-02-07 00:00:00  2013-08-14 15:16:30.857         460   \n",
       "\n",
       "   num_accesos  habilitado           fec_ult_acceso  \n",
       "0           58           0  2019-04-17 10:25:07.000  \n",
       "1           92           1  2016-02-12 11:46:10.000  \n",
       "2           56           1  2015-02-26 12:16:50.000  \n",
       "3          322           1  2019-08-20 22:28:08.000  \n",
       "4            2           1  2013-08-23 17:17:02.000  "
      ]
     },
     "execution_count": 30,
     "metadata": {},
     "output_type": "execute_result"
    }
   ],
   "source": [
    "df_pd.head()"
   ]
  },
  {
   "cell_type": "code",
   "execution_count": null,
   "id": "73ff5070-19e8-4f21-9b10-a6ed38d754e2",
   "metadata": {},
   "outputs": [],
   "source": [
    "df_pd.to_csv('data/archivo_final.csv', index=False)"
   ]
  },
  {
   "cell_type": "markdown",
   "id": "e6c3ca70-5d1d-4349-862e-ab7661e7bd12",
   "metadata": {},
   "source": [
    "# Generamos la ruta parquet y la leemos"
   ]
  },
  {
   "cell_type": "code",
   "execution_count": 31,
   "id": "f05f31ba-0650-47f8-ad45-e38abd758548",
   "metadata": {},
   "outputs": [],
   "source": [
    "ruta = \"data/archivo_final.csv\"\n",
    "ruta_parquet = \"data/archivo_final.parquet\""
   ]
  },
  {
   "cell_type": "code",
   "execution_count": 32,
   "id": "86d44f1b-b493-4cab-a9ae-a1777ff5eaeb",
   "metadata": {},
   "outputs": [],
   "source": [
    "df = pd.read_csv(ruta)\n",
    "df.to_parquet(ruta_parquet)"
   ]
  },
  {
   "cell_type": "code",
   "execution_count": 33,
   "id": "54ac92ba-1c70-4838-86ce-74d56f662205",
   "metadata": {},
   "outputs": [
    {
     "data": {
      "text/html": [
       "<div>\n",
       "<style scoped>\n",
       "    .dataframe tbody tr th:only-of-type {\n",
       "        vertical-align: middle;\n",
       "    }\n",
       "\n",
       "    .dataframe tbody tr th {\n",
       "        vertical-align: top;\n",
       "    }\n",
       "\n",
       "    .dataframe thead th {\n",
       "        text-align: right;\n",
       "    }\n",
       "</style>\n",
       "<table border=\"1\" class=\"dataframe\">\n",
       "  <thead>\n",
       "    <tr style=\"text-align: right;\">\n",
       "      <th></th>\n",
       "      <th>id_aspirante</th>\n",
       "      <th>usuarios_id</th>\n",
       "      <th>nombres</th>\n",
       "      <th>apellidos</th>\n",
       "      <th>carrera</th>\n",
       "      <th>prov_nace</th>\n",
       "      <th>canton_nace</th>\n",
       "      <th>nacionalidad</th>\n",
       "      <th>genero</th>\n",
       "      <th>fecha_nacimiento</th>\n",
       "      <th>fecha_reg_aspirante</th>\n",
       "      <th>id_usuario</th>\n",
       "      <th>num_accesos</th>\n",
       "      <th>habilitado</th>\n",
       "      <th>fec_ult_acceso</th>\n",
       "    </tr>\n",
       "  </thead>\n",
       "  <tbody>\n",
       "    <tr>\n",
       "      <th>0</th>\n",
       "      <td>11705</td>\n",
       "      <td>150</td>\n",
       "      <td>ROXANA LILIBETH</td>\n",
       "      <td>ROMERO VERA</td>\n",
       "      <td>EDUCACION INICIAL</td>\n",
       "      <td>SANTA ELENA</td>\n",
       "      <td>SANTA ELENA</td>\n",
       "      <td>ECUATORIANA</td>\n",
       "      <td>FEMENINO</td>\n",
       "      <td>1990-05-26 00:00:00.000</td>\n",
       "      <td>2018-08-28 14:31:05.000</td>\n",
       "      <td>150</td>\n",
       "      <td>58</td>\n",
       "      <td>0</td>\n",
       "      <td>2019-04-17 10:25:07.000</td>\n",
       "    </tr>\n",
       "    <tr>\n",
       "      <th>1</th>\n",
       "      <td>3</td>\n",
       "      <td>411</td>\n",
       "      <td>JORGE LUIS</td>\n",
       "      <td>YELA RIVERA</td>\n",
       "      <td>INGENIERIA EN PETROLEO</td>\n",
       "      <td>PICHINCHA</td>\n",
       "      <td>RUMIÑAHUI</td>\n",
       "      <td>ECUATORIANA</td>\n",
       "      <td>MASCULINO</td>\n",
       "      <td>1999-03-28 00:00:00</td>\n",
       "      <td>2013-08-14 14:42:39.467</td>\n",
       "      <td>411</td>\n",
       "      <td>92</td>\n",
       "      <td>1</td>\n",
       "      <td>2016-02-12 11:46:10.000</td>\n",
       "    </tr>\n",
       "    <tr>\n",
       "      <th>2</th>\n",
       "      <td>1</td>\n",
       "      <td>414</td>\n",
       "      <td>CARMEN CECILIA</td>\n",
       "      <td>AGURTO TORRES</td>\n",
       "      <td>ADMINISTRACION DE EMPRESAS</td>\n",
       "      <td>SANTA ELENA</td>\n",
       "      <td>LA LIBERTAD</td>\n",
       "      <td>ECUATORIANA</td>\n",
       "      <td>FEMENINO</td>\n",
       "      <td>2000-09-01 00:00:00</td>\n",
       "      <td>2013-08-14 14:42:38.577</td>\n",
       "      <td>414</td>\n",
       "      <td>56</td>\n",
       "      <td>1</td>\n",
       "      <td>2015-02-26 12:16:50.000</td>\n",
       "    </tr>\n",
       "    <tr>\n",
       "      <th>3</th>\n",
       "      <td>2</td>\n",
       "      <td>459</td>\n",
       "      <td>JOEL OSWALDO</td>\n",
       "      <td>ALEJANDRO CRUZ</td>\n",
       "      <td>ADMINISTRACION DE EMPRESAS</td>\n",
       "      <td>SANTA ELENA</td>\n",
       "      <td>SANTA ELENA</td>\n",
       "      <td>ECUATORIANA</td>\n",
       "      <td>MASCULINO</td>\n",
       "      <td>1987-05-11 00:00:00</td>\n",
       "      <td>2013-08-14 14:42:38.593</td>\n",
       "      <td>459</td>\n",
       "      <td>322</td>\n",
       "      <td>1</td>\n",
       "      <td>2019-08-20 22:28:08.000</td>\n",
       "    </tr>\n",
       "    <tr>\n",
       "      <th>4</th>\n",
       "      <td>4</td>\n",
       "      <td>460</td>\n",
       "      <td>SANDY MELISSA</td>\n",
       "      <td>YAGUAL RIVAS</td>\n",
       "      <td>INGENIERIA EN PETROLEO</td>\n",
       "      <td>GUAYAS</td>\n",
       "      <td>GUAYAQUIL</td>\n",
       "      <td>ECUATORIANA</td>\n",
       "      <td>FEMENINO</td>\n",
       "      <td>2007-07-03 00:00:00</td>\n",
       "      <td>2013-08-14 15:16:30.857</td>\n",
       "      <td>460</td>\n",
       "      <td>2</td>\n",
       "      <td>1</td>\n",
       "      <td>2013-08-23 17:17:02.000</td>\n",
       "    </tr>\n",
       "  </tbody>\n",
       "</table>\n",
       "</div>"
      ],
      "text/plain": [
       "   id_aspirante  usuarios_id          nombres       apellidos  \\\n",
       "0         11705          150  ROXANA LILIBETH     ROMERO VERA   \n",
       "1             3          411       JORGE LUIS     YELA RIVERA   \n",
       "2             1          414   CARMEN CECILIA   AGURTO TORRES   \n",
       "3             2          459     JOEL OSWALDO  ALEJANDRO CRUZ   \n",
       "4             4          460    SANDY MELISSA    YAGUAL RIVAS   \n",
       "\n",
       "                      carrera    prov_nace  canton_nace nacionalidad  \\\n",
       "0           EDUCACION INICIAL  SANTA ELENA  SANTA ELENA  ECUATORIANA   \n",
       "1      INGENIERIA EN PETROLEO    PICHINCHA    RUMIÑAHUI  ECUATORIANA   \n",
       "2  ADMINISTRACION DE EMPRESAS  SANTA ELENA  LA LIBERTAD  ECUATORIANA   \n",
       "3  ADMINISTRACION DE EMPRESAS  SANTA ELENA  SANTA ELENA  ECUATORIANA   \n",
       "4      INGENIERIA EN PETROLEO       GUAYAS    GUAYAQUIL  ECUATORIANA   \n",
       "\n",
       "      genero         fecha_nacimiento      fecha_reg_aspirante  id_usuario  \\\n",
       "0   FEMENINO  1990-05-26 00:00:00.000  2018-08-28 14:31:05.000         150   \n",
       "1  MASCULINO      1999-03-28 00:00:00  2013-08-14 14:42:39.467         411   \n",
       "2   FEMENINO      2000-09-01 00:00:00  2013-08-14 14:42:38.577         414   \n",
       "3  MASCULINO      1987-05-11 00:00:00  2013-08-14 14:42:38.593         459   \n",
       "4   FEMENINO      2007-07-03 00:00:00  2013-08-14 15:16:30.857         460   \n",
       "\n",
       "   num_accesos  habilitado           fec_ult_acceso  \n",
       "0           58           0  2019-04-17 10:25:07.000  \n",
       "1           92           1  2016-02-12 11:46:10.000  \n",
       "2           56           1  2015-02-26 12:16:50.000  \n",
       "3          322           1  2019-08-20 22:28:08.000  \n",
       "4            2           1  2013-08-23 17:17:02.000  "
      ]
     },
     "execution_count": 33,
     "metadata": {},
     "output_type": "execute_result"
    }
   ],
   "source": [
    "df.head()"
   ]
  },
  {
   "cell_type": "markdown",
   "id": "b5a89d7f-22c6-42c2-a8d6-d0c8df4df32d",
   "metadata": {},
   "source": [
    "# Instalamos polar e importamos una variable matplotlib y polars"
   ]
  },
  {
   "cell_type": "code",
   "execution_count": null,
   "id": "bd0b128b-d706-41c3-9c5e-e100dfa53632",
   "metadata": {},
   "outputs": [],
   "source": [
    "!pip install polars"
   ]
  },
  {
   "cell_type": "code",
   "execution_count": 35,
   "id": "fe012687-7914-482f-9787-cdb13e07468f",
   "metadata": {},
   "outputs": [],
   "source": [
    "import polars as pl\n"
   ]
  },
  {
   "cell_type": "code",
   "execution_count": 36,
   "id": "c8708d62-a6b5-4f9a-a403-7000d478018c",
   "metadata": {},
   "outputs": [],
   "source": [
    "df = pl.read_parquet(ruta_parquet)"
   ]
  },
  {
   "cell_type": "markdown",
   "id": "a6b9c32b-3c2b-4af1-b6fe-1487a2ce58ea",
   "metadata": {},
   "source": [
    "## Creación de gráfico matplotlib"
   ]
  },
  {
   "cell_type": "code",
   "execution_count": 38,
   "id": "c30dff45-63a0-4829-996b-8d6fbe51e74c",
   "metadata": {},
   "outputs": [
    {
     "data": {
      "text/html": [
       "<div><style>\n",
       ".dataframe > thead > tr,\n",
       ".dataframe > tbody > tr {\n",
       "  text-align: right;\n",
       "  white-space: pre-wrap;\n",
       "}\n",
       "</style>\n",
       "<small>shape: (2, 2)</small><table border=\"1\" class=\"dataframe\"><thead><tr><th>genero</th><th>cantidad</th></tr><tr><td>str</td><td>u32</td></tr></thead><tbody><tr><td>&quot;FEMENINO&quot;</td><td>11386</td></tr><tr><td>&quot;MASCULINO&quot;</td><td>9763</td></tr></tbody></table></div>"
      ],
      "text/plain": [
       "shape: (2, 2)\n",
       "┌───────────┬──────────┐\n",
       "│ genero    ┆ cantidad │\n",
       "│ ---       ┆ ---      │\n",
       "│ str       ┆ u32      │\n",
       "╞═══════════╪══════════╡\n",
       "│ FEMENINO  ┆ 11386    │\n",
       "│ MASCULINO ┆ 9763     │\n",
       "└───────────┴──────────┘"
      ]
     },
     "execution_count": 38,
     "metadata": {},
     "output_type": "execute_result"
    }
   ],
   "source": [
    "conteo_genero = (\n",
    "    df.group_by('genero')\n",
    "    .agg([\n",
    "        pl.col('genero').count().alias('cantidad')\n",
    "\n",
    "    ])\n",
    "    .sort('cantidad', descending=True)\n",
    ")\n",
    "conteo_genero"
   ]
  },
  {
   "cell_type": "code",
   "execution_count": 39,
   "id": "fb380a17-af3d-4024-91b2-ec7fe6019e61",
   "metadata": {},
   "outputs": [
    {
     "data": {
      "image/png": "[encoded data removed]",
      "text/plain": [
       "<Figure size 640x480 with 1 Axes>"
      ]
     },
     "metadata": {},
     "output_type": "display_data"
    }
   ],
   "source": [
    "\n",
    "genero = conteo_genero['genero'].to_list()\n",
    "cantidad = conteo_genero['cantidad'].to_list()\n",
    "\n",
    "labels = genero\n",
    "sizes = cantidad\n",
    "explode = (0, 0.1)  # only \"explode\" the 2nd slice (i.e. 'Hogs')\n",
    "\n",
    "fig1, ax1 = plt.subplots()\n",
    "ax1.pie(sizes, explode=explode, labels=labels, autopct='%1.1f%%',\n",
    "        shadow=True, startangle=90)\n",
    "ax1.axis('equal')  # Equal aspect ratio ensures that pie is drawn as a circle.\n",
    "\n",
    "plt.show()"
   ]
  },
  {
   "cell_type": "markdown",
   "id": "7ecf5ae5-6350-44b5-b3ed-c8cd14450af7",
   "metadata": {},
   "source": [
    "# Uso de PyGWlker"
   ]
  },
  {
   "cell_type": "code",
   "execution_count": null,
   "id": "6c0e20a6-1cdf-4210-9583-cc22dba81c81",
   "metadata": {},
   "outputs": [],
   "source": [
    "!pip install pygwalker"
   ]
  },
  {
   "cell_type": "code",
   "execution_count": 40,
   "id": "6d75d546-a03d-4a3d-a32e-dc3e14923da2",
   "metadata": {},
   "outputs": [],
   "source": [
    "import pygwalker as pyg"
   ]
  },
  {
   "cell_type": "code",
   "execution_count": 41,
   "id": "1eb7d89e-3417-4792-85be-be9b613a059a",
   "metadata": {},
   "outputs": [
    {
     "data": {
      "application/vnd.jupyter.widget-view+json": {
       "model_id": "da0cd197584e4fbeabd3d2618f9fcb9f",
       "version_major": 2,
       "version_minor": 0
      },
      "text/plain": [
       "Box(children=(HTML(value='\\n<div id=\"ifr-pyg-000635f9c86477b3ad7RUMZyTH02fwAE\" style=\"height: auto\">\\n    <hea…"
      ]
     },
     "metadata": {},
     "output_type": "display_data"
    },
    {
     "data": {
      "text/html": [
       "<script>\n",
       "    window.addEventListener(\"message\", function(event) {\n",
       "        const backgroundMap = {\n",
       "            \"dark\": \"hsl(240 10% 3.9%)\",\n",
       "            \"light\": \"hsl(0 0 100%)\",\n",
       "        };\n",
       "        const colorMap = {\n",
       "            \"dark\": \"hsl(0 0% 98%)\",\n",
       "            \"light\": \"hsl(240 10% 3.9%)\",\n",
       "        };\n",
       "        if (event.data.action === \"changeAppearance\" && event.data.gid === \"000635f9c86477b3ad7RUMZyTH02fwAE\") {\n",
       "            var iframe = document.getElementById(\"gwalker-000635f9c86477b3ad7RUMZyTH02fwAE\");\n",
       "            iframe.style.background  = backgroundMap[event.data.appearance];\n",
       "            iframe.style.color = colorMap[event.data.appearance];\n",
       "        }\n",
       "    });\n",
       "</script>"
      ],
      "text/plain": [
       "<IPython.core.display.HTML object>"
      ]
     },
     "metadata": {},
     "output_type": "display_data"
    },
    {
     "data": {
      "text/html": [],
      "text/plain": [
       "<IPython.core.display.HTML object>"
      ]
     },
     "metadata": {},
     "output_type": "display_data"
    },
    {
     "data": {
      "text/plain": [
       "<pygwalker.api.pygwalker.PygWalker at 0x131cce4ce30>"
      ]
     },
     "execution_count": 41,
     "metadata": {},
     "output_type": "execute_result"
    }
   ],
   "source": [
    "pyg.walk(df)"
   ]
  },
  {
   "cell_type": "markdown",
   "id": "396d1f89-d574-4ea3-bc04-0cca7028fb42",
   "metadata": {},
   "source": [
    "# Generación de gráfico con Bokeh"
   ]
  },
  {
   "cell_type": "code",
   "execution_count": null,
   "id": "c33bcb42-c8b8-4fcd-8446-b585bdc05e1a",
   "metadata": {},
   "outputs": [],
   "source": [
    "!pip install bokeh"
   ]
  },
  {
   "cell_type": "markdown",
   "id": "45bd3b76-f362-4de1-9e3b-02cc0369a94a",
   "metadata": {},
   "source": [
    "## Realizamos el agrupamiento por carrera"
   ]
  },
  {
   "cell_type": "code",
   "execution_count": 57,
   "id": "ec897054-6207-45b9-9568-971aa34fccb4",
   "metadata": {},
   "outputs": [
    {
     "data": {
      "text/html": [
       "<div><style>\n",
       ".dataframe > thead > tr,\n",
       ".dataframe > tbody > tr {\n",
       "  text-align: right;\n",
       "  white-space: pre-wrap;\n",
       "}\n",
       "</style>\n",
       "<small>shape: (27, 4)</small><table border=\"1\" class=\"dataframe\"><thead><tr><th>carrera</th><th>cantidad</th><th>fecha_minima</th><th>fecha_maxima</th></tr><tr><td>str</td><td>u32</td><td>str</td><td>str</td></tr></thead><tbody><tr><td>&quot;ADMINISTRACION DE EMPRESAS&quot;</td><td>1647</td><td>&quot;2013-08-14 14:42:38.577&quot;</td><td>&quot;2022-06-07 16:43:13.683&quot;</td></tr><tr><td>&quot;ENFERMERIA&quot;</td><td>1548</td><td>&quot;2013-08-14 18:00:35.483&quot;</td><td>&quot;2022-06-07 16:43:13.987&quot;</td></tr><tr><td>&quot;CONTABILIDAD Y AUDITORIA&quot;</td><td>1416</td><td>&quot;2013-08-14 17:36:14.437&quot;</td><td>&quot;2022-06-07 16:43:13.757&quot;</td></tr><tr><td>&quot;INGENIERIA CIVIL&quot;</td><td>1315</td><td>&quot;2013-08-14 17:41:33.640&quot;</td><td>&quot;2022-06-07 16:43:14.050&quot;</td></tr><tr><td>&quot;DERECHO&quot;</td><td>1014</td><td>&quot;2013-08-14 18:00:37.827&quot;</td><td>&quot;2022-06-07 16:43:13.800&quot;</td></tr><tr><td>&hellip;</td><td>&hellip;</td><td>&hellip;</td><td>&hellip;</td></tr><tr><td>&quot;INFORMATICA&quot;</td><td>564</td><td>&quot;2013-08-14 17:50:52.733&quot;</td><td>&quot;2016-10-19 19:24:44.000&quot;</td></tr><tr><td>&quot;INGENIERIA AGROPECUARIA&quot;</td><td>460</td><td>&quot;2013-08-14 17:41:33.513&quot;</td><td>&quot;2016-10-19 19:25:40.000&quot;</td></tr><tr><td>&quot;EDUCACION PARVULARIA&quot;</td><td>115</td><td>&quot;2013-08-14 18:11:44.403&quot;</td><td>&quot;2016-10-19 19:21:32.000&quot;</td></tr><tr><td>&quot;EDUCACION FISICA DEPORTE Y REC…</td><td>5</td><td>&quot;2014-08-04 21:05:41.000&quot;</td><td>&quot;2014-08-04 21:18:05.000&quot;</td></tr><tr><td>&quot;PEDAGOGIA DE LOS IDIOMAS NACIO…</td><td>1</td><td>&quot;2019-04-10 16:19:21.000&quot;</td><td>&quot;2019-04-10 16:19:21.000&quot;</td></tr></tbody></table></div>"
      ],
      "text/plain": [
       "shape: (27, 4)\n",
       "┌─────────────────────────────────┬──────────┬─────────────────────────┬─────────────────────────┐\n",
       "│ carrera                         ┆ cantidad ┆ fecha_minima            ┆ fecha_maxima            │\n",
       "│ ---                             ┆ ---      ┆ ---                     ┆ ---                     │\n",
       "│ str                             ┆ u32      ┆ str                     ┆ str                     │\n",
       "╞═════════════════════════════════╪══════════╪═════════════════════════╪═════════════════════════╡\n",
       "│ ADMINISTRACION DE EMPRESAS      ┆ 1647     ┆ 2013-08-14 14:42:38.577 ┆ 2022-06-07 16:43:13.683 │\n",
       "│ ENFERMERIA                      ┆ 1548     ┆ 2013-08-14 18:00:35.483 ┆ 2022-06-07 16:43:13.987 │\n",
       "│ CONTABILIDAD Y AUDITORIA        ┆ 1416     ┆ 2013-08-14 17:36:14.437 ┆ 2022-06-07 16:43:13.757 │\n",
       "│ INGENIERIA CIVIL                ┆ 1315     ┆ 2013-08-14 17:41:33.640 ┆ 2022-06-07 16:43:14.050 │\n",
       "│ DERECHO                         ┆ 1014     ┆ 2013-08-14 18:00:37.827 ┆ 2022-06-07 16:43:13.800 │\n",
       "│ …                               ┆ …        ┆ …                       ┆ …                       │\n",
       "│ INFORMATICA                     ┆ 564      ┆ 2013-08-14 17:50:52.733 ┆ 2016-10-19 19:24:44.000 │\n",
       "│ INGENIERIA AGROPECUARIA         ┆ 460      ┆ 2013-08-14 17:41:33.513 ┆ 2016-10-19 19:25:40.000 │\n",
       "│ EDUCACION PARVULARIA            ┆ 115      ┆ 2013-08-14 18:11:44.403 ┆ 2016-10-19 19:21:32.000 │\n",
       "│ EDUCACION FISICA DEPORTE Y REC… ┆ 5        ┆ 2014-08-04 21:05:41.000 ┆ 2014-08-04 21:18:05.000 │\n",
       "│ PEDAGOGIA DE LOS IDIOMAS NACIO… ┆ 1        ┆ 2019-04-10 16:19:21.000 ┆ 2019-04-10 16:19:21.000 │\n",
       "└─────────────────────────────────┴──────────┴─────────────────────────┴─────────────────────────┘"
      ]
     },
     "execution_count": 57,
     "metadata": {},
     "output_type": "execute_result"
    }
   ],
   "source": [
    "conteo = (\n",
    "    df.group_by('carrera')\n",
    "    .agg([\n",
    "        pl.col('carrera').count().alias('cantidad'),\n",
    "        pl.col(\"fecha_reg_aspirante\").min().alias('fecha_minima'),\n",
    "        pl.col(\"fecha_reg_aspirante\").max().alias('fecha_maxima'), \n",
    "    ])\n",
    "    .sort('cantidad', descending=True)\n",
    ")\n",
    "conteo"
   ]
  },
  {
   "cell_type": "code",
   "execution_count": 43,
   "id": "15119252-fc08-4437-b5b9-6fd58e11ddbb",
   "metadata": {},
   "outputs": [],
   "source": [
    "from bokeh.io import output_notebook, show\n",
    "from bokeh.plotting import figure\n",
    "from bokeh.models import ColumnDataSource, LabelSet"
   ]
  },
  {
   "cell_type": "code",
   "execution_count": 44,
   "id": "b56b899c-45b9-4345-804d-a19e286f7c85",
   "metadata": {},
   "outputs": [
    {
     "data": {
      "text/html": [
       "    <style>\n",
       "        .bk-notebook-logo {\n",
       "            display: block;\n",
       "            width: 20px;\n",
       "            height: 20px;\n",
       "            background-image: url(data:image/png;base64,iVBORw0KGgoAAAANSUhEUgAAABQAAAAUCAYAAACNiR0NAAAABHNCSVQICAgIfAhkiAAAAAlwSFlzAAALEgAACxIB0t1+/AAAABx0RVh0U29mdHdhcmUAQWRvYmUgRmlyZXdvcmtzIENTNui8sowAAAOkSURBVDiNjZRtaJVlGMd/1/08zzln5zjP1LWcU9N0NkN8m2CYjpgQYQXqSs0I84OLIC0hkEKoPtiH3gmKoiJDU7QpLgoLjLIQCpEsNJ1vqUOdO7ppbuec5+V+rj4ctwzd8IIbbi6u+8f1539dt3A78eXC7QizUF7gyV1fD1Yqg4JWz84yffhm0qkFqBogB9rM8tZdtwVsPUhWhGcFJngGeWrPzHm5oaMmkfEg1usvLFyc8jLRqDOMru7AyC8saQr7GG7f5fvDeH7Ej8CM66nIF+8yngt6HWaKh7k49Soy9nXurCi1o3qUbS3zWfrYeQDTB/Qj6kX6Ybhw4B+bOYoLKCC9H3Nu/leUTZ1JdRWkkn2ldcCamzrcf47KKXdAJllSlxAOkRgyHsGC/zRday5Qld9DyoM4/q/rUoy/CXh3jzOu3bHUVZeU+DEn8FInkPBFlu3+nW3Nw0mk6vCDiWg8CeJaxEwuHS3+z5RgY+YBR6V1Z1nxSOfoaPa4LASWxxdNp+VWTk7+4vzaou8v8PN+xo+KY2xsw6une2frhw05CTYOmQvsEhjhWjn0bmXPjpE1+kplmmkP3suftwTubK9Vq22qKmrBhpY4jvd5afdRA3wGjFAgcnTK2s4hY0/GPNIb0nErGMCRxWOOX64Z8RAC4oCXdklmEvcL8o0BfkNK4lUg9HTl+oPlQxdNo3Mg4Nv175e/1LDGzZen30MEjRUtmXSfiTVu1kK8W4txyV6BMKlbgk3lMwYCiusNy9fVfvvwMxv8Ynl6vxoByANLTWplvuj/nF9m2+PDtt1eiHPBr1oIfhCChQMBw6Aw0UulqTKZdfVvfG7VcfIqLG9bcldL/+pdWTLxLUy8Qq38heUIjh4XlzZxzQm19lLFlr8vdQ97rjZVOLf8nclzckbcD4wxXMidpX30sFd37Fv/GtwwhzhxGVAprjbg0gCAEeIgwCZyTV2Z1REEW8O4py0wsjeloKoMr6iCY6dP92H6Vw/oTyICIthibxjm/DfN9lVz8IqtqKYLUXfoKVMVQVVJOElGjrnnUt9T9wbgp8AyYKaGlqingHZU/uG2NTZSVqwHQTWkx9hxjkpWDaCg6Ckj5qebgBVbT3V3NNXMSiWSDdGV3hrtzla7J+duwPOToIg42ChPQOQjspnSlp1V+Gjdged7+8UN5CRAV7a5EdFNwCjEaBR27b3W890TE7g24NAP/mMDXRWrGoFPQI9ls/MWO2dWFAar/xcOIImbbpA3zgAAAABJRU5ErkJggg==);\n",
       "        }\n",
       "    </style>\n",
       "    <div>\n",
       "        <a href=\"https://bokeh.org\" target=\"_blank\" class=\"bk-notebook-logo\"></a>\n",
       "        <span id=\"c3827350-b8c6-4e9b-a780-8a05ed59f9ab\">Loading BokehJS ...</span>\n",
       "    </div>\n"
      ]
     },
     "metadata": {},
     "output_type": "display_data"
    },
    {
     "data": {
      "application/javascript": [
       "'use strict';\n",
       "(function(root) {\n",
       "  function now() {\n",
       "    return new Date();\n",
       "  }\n",
       "\n",
       "  const force = true;\n",
       "\n",
       "  if (typeof root._bokeh_onload_callbacks === \"undefined\" || force === true) {\n",
       "    root._bokeh_onload_callbacks = [];\n",
       "    root._bokeh_is_loading = undefined;\n",
       "  }\n",
       "\n",
       "const JS_MIME_TYPE = 'application/javascript';\n",
       "  const HTML_MIME_TYPE = 'text/html';\n",
       "  const EXEC_MIME_TYPE = 'application/vnd.bokehjs_exec.v0+json';\n",
       "  const CLASS_NAME = 'output_bokeh rendered_html';\n",
       "\n",
       "  /**\n",
       "   * Render data to the DOM node\n",
       "   */\n",
       "  function render(props, node) {\n",
       "    const script = document.createElement(\"script\");\n",
       "    node.appendChild(script);\n",
       "  }\n",
       "\n",
       "  /**\n",
       "   * Handle when an output is cleared or removed\n",
       "   */\n",
       "  function handleClearOutput(event, handle) {\n",
       "    function drop(id) {\n",
       "      const view = Bokeh.index.get_by_id(id)\n",
       "      if (view != null) {\n",
       "        view.model.document.clear()\n",
       "        Bokeh.index.delete(view)\n",
       "      }\n",
       "    }\n",
       "\n",
       "    const cell = handle.cell;\n",
       "\n",
       "    const id = cell.output_area._bokeh_element_id;\n",
       "    const server_id = cell.output_area._bokeh_server_id;\n",
       "\n",
       "    // Clean up Bokeh references\n",
       "    if (id != null) {\n",
       "      drop(id)\n",
       "    }\n",
       "\n",
       "    if (server_id !== undefined) {\n",
       "      // Clean up Bokeh references\n",
       "      const cmd_clean = \"from bokeh.io.state import curstate; print(curstate().uuid_to_server['\" + server_id + \"'].get_sessions()[0].document.roots[0]._id)\";\n",
       "      cell.notebook.kernel.execute(cmd_clean, {\n",
       "        iopub: {\n",
       "          output: function(msg) {\n",
       "            const id = msg.content.text.trim()\n",
       "            drop(id)\n",
       "          }\n",
       "        }\n",
       "      });\n",
       "      // Destroy server and session\n",
       "      const cmd_destroy = \"import bokeh.io.notebook as ion; ion.destroy_server('\" + server_id + \"')\";\n",
       "      cell.notebook.kernel.execute(cmd_destroy);\n",
       "    }\n",
       "  }\n",
       "\n",
       "  /**\n",
       "   * Handle when a new output is added\n",
       "   */\n",
       "  function handleAddOutput(event, handle) {\n",
       "    const output_area = handle.output_area;\n",
       "    const output = handle.output;\n",
       "\n",
       "    // limit handleAddOutput to display_data with EXEC_MIME_TYPE content only\n",
       "    if ((output.output_type != \"display_data\") || (!Object.prototype.hasOwnProperty.call(output.data, EXEC_MIME_TYPE))) {\n",
       "      return\n",
       "    }\n",
       "\n",
       "    const toinsert = output_area.element.find(\".\" + CLASS_NAME.split(' ')[0]);\n",
       "\n",
       "    if (output.metadata[EXEC_MIME_TYPE][\"id\"] !== undefined) {\n",
       "      toinsert[toinsert.length - 1].firstChild.textContent = output.data[JS_MIME_TYPE];\n",
       "      // store reference to embed id on output_area\n",
       "      output_area._bokeh_element_id = output.metadata[EXEC_MIME_TYPE][\"id\"];\n",
       "    }\n",
       "    if (output.metadata[EXEC_MIME_TYPE][\"server_id\"] !== undefined) {\n",
       "      const bk_div = document.createElement(\"div\");\n",
       "      bk_div.innerHTML = output.data[HTML_MIME_TYPE];\n",
       "      const script_attrs = bk_div.children[0].attributes;\n",
       "      for (let i = 0; i < script_attrs.length; i++) {\n",
       "        toinsert[toinsert.length - 1].firstChild.setAttribute(script_attrs[i].name, script_attrs[i].value);\n",
       "        toinsert[toinsert.length - 1].firstChild.textContent = bk_div.children[0].textContent\n",
       "      }\n",
       "      // store reference to server id on output_area\n",
       "      output_area._bokeh_server_id = output.metadata[EXEC_MIME_TYPE][\"server_id\"];\n",
       "    }\n",
       "  }\n",
       "\n",
       "  function register_renderer(events, OutputArea) {\n",
       "\n",
       "    function append_mime(data, metadata, element) {\n",
       "      // create a DOM node to render to\n",
       "      const toinsert = this.create_output_subarea(\n",
       "        metadata,\n",
       "        CLASS_NAME,\n",
       "        EXEC_MIME_TYPE\n",
       "      );\n",
       "      this.keyboard_manager.register_events(toinsert);\n",
       "      // Render to node\n",
       "      const props = {data: data, metadata: metadata[EXEC_MIME_TYPE]};\n",
       "      render(props, toinsert[toinsert.length - 1]);\n",
       "      element.append(toinsert);\n",
       "      return toinsert\n",
       "    }\n",
       "\n",
       "    /* Handle when an output is cleared or removed */\n",
       "    events.on('clear_output.CodeCell', handleClearOutput);\n",
       "    events.on('delete.Cell', handleClearOutput);\n",
       "\n",
       "    /* Handle when a new output is added */\n",
       "    events.on('output_added.OutputArea', handleAddOutput);\n",
       "\n",
       "    /**\n",
       "     * Register the mime type and append_mime function with output_area\n",
       "     */\n",
       "    OutputArea.prototype.register_mime_type(EXEC_MIME_TYPE, append_mime, {\n",
       "      /* Is output safe? */\n",
       "      safe: true,\n",
       "      /* Index of renderer in `output_area.display_order` */\n",
       "      index: 0\n",
       "    });\n",
       "  }\n",
       "\n",
       "  // register the mime type if in Jupyter Notebook environment and previously unregistered\n",
       "  if (root.Jupyter !== undefined) {\n",
       "    const events = require('base/js/events');\n",
       "    const OutputArea = require('notebook/js/outputarea').OutputArea;\n",
       "\n",
       "    if (OutputArea.prototype.mime_types().indexOf(EXEC_MIME_TYPE) == -1) {\n",
       "      register_renderer(events, OutputArea);\n",
       "    }\n",
       "  }\n",
       "  if (typeof (root._bokeh_timeout) === \"undefined\" || force === true) {\n",
       "    root._bokeh_timeout = Date.now() + 5000;\n",
       "    root._bokeh_failed_load = false;\n",
       "  }\n",
       "\n",
       "  const NB_LOAD_WARNING = {'data': {'text/html':\n",
       "     \"<div style='background-color: #fdd'>\\n\"+\n",
       "     \"<p>\\n\"+\n",
       "     \"BokehJS does not appear to have successfully loaded. If loading BokehJS from CDN, this \\n\"+\n",
       "     \"may be due to a slow or bad network connection. Possible fixes:\\n\"+\n",
       "     \"</p>\\n\"+\n",
       "     \"<ul>\\n\"+\n",
       "     \"<li>re-rerun `output_notebook()` to attempt to load from CDN again, or</li>\\n\"+\n",
       "     \"<li>use INLINE resources instead, as so:</li>\\n\"+\n",
       "     \"</ul>\\n\"+\n",
       "     \"<code>\\n\"+\n",
       "     \"from bokeh.resources import INLINE\\n\"+\n",
       "     \"output_notebook(resources=INLINE)\\n\"+\n",
       "     \"</code>\\n\"+\n",
       "     \"</div>\"}};\n",
       "\n",
       "  function display_loaded(error = null) {\n",
       "    const el = document.getElementById(\"c3827350-b8c6-4e9b-a780-8a05ed59f9ab\");\n",
       "    if (el != null) {\n",
       "      const html = (() => {\n",
       "        if (typeof root.Bokeh === \"undefined\") {\n",
       "          if (error == null) {\n",
       "            return \"BokehJS is loading ...\";\n",
       "          } else {\n",
       "            return \"BokehJS failed to load.\";\n",
       "          }\n",
       "        } else {\n",
       "          const prefix = `BokehJS ${root.Bokeh.version}`;\n",
       "          if (error == null) {\n",
       "            return `${prefix} successfully loaded.`;\n",
       "          } else {\n",
       "            return `${prefix} <b>encountered errors</b> while loading and may not function as expected.`;\n",
       "          }\n",
       "        }\n",
       "      })();\n",
       "      el.innerHTML = html;\n",
       "\n",
       "      if (error != null) {\n",
       "        const wrapper = document.createElement(\"div\");\n",
       "        wrapper.style.overflow = \"auto\";\n",
       "        wrapper.style.height = \"5em\";\n",
       "        wrapper.style.resize = \"vertical\";\n",
       "        const content = document.createElement(\"div\");\n",
       "        content.style.fontFamily = \"monospace\";\n",
       "        content.style.whiteSpace = \"pre-wrap\";\n",
       "        content.style.backgroundColor = \"rgb(255, 221, 221)\";\n",
       "        content.textContent = error.stack ?? error.toString();\n",
       "        wrapper.append(content);\n",
       "        el.append(wrapper);\n",
       "      }\n",
       "    } else if (Date.now() < root._bokeh_timeout) {\n",
       "      setTimeout(() => display_loaded(error), 100);\n",
       "    }\n",
       "  }\n",
       "\n",
       "  function run_callbacks() {\n",
       "    try {\n",
       "      root._bokeh_onload_callbacks.forEach(function(callback) {\n",
       "        if (callback != null)\n",
       "          callback();\n",
       "      });\n",
       "    } finally {\n",
       "      delete root._bokeh_onload_callbacks\n",
       "    }\n",
       "    console.debug(\"Bokeh: all callbacks have finished\");\n",
       "  }\n",
       "\n",
       "  function load_libs(css_urls, js_urls, callback) {\n",
       "    if (css_urls == null) css_urls = [];\n",
       "    if (js_urls == null) js_urls = [];\n",
       "\n",
       "    root._bokeh_onload_callbacks.push(callback);\n",
       "    if (root._bokeh_is_loading > 0) {\n",
       "      console.debug(\"Bokeh: BokehJS is being loaded, scheduling callback at\", now());\n",
       "      return null;\n",
       "    }\n",
       "    if (js_urls == null || js_urls.length === 0) {\n",
       "      run_callbacks();\n",
       "      return null;\n",
       "    }\n",
       "    console.debug(\"Bokeh: BokehJS not loaded, scheduling load and callback at\", now());\n",
       "    root._bokeh_is_loading = css_urls.length + js_urls.length;\n",
       "\n",
       "    function on_load() {\n",
       "      root._bokeh_is_loading--;\n",
       "      if (root._bokeh_is_loading === 0) {\n",
       "        console.debug(\"Bokeh: all BokehJS libraries/stylesheets loaded\");\n",
       "        run_callbacks()\n",
       "      }\n",
       "    }\n",
       "\n",
       "    function on_error(url) {\n",
       "      console.error(\"failed to load \" + url);\n",
       "    }\n",
       "\n",
       "    for (let i = 0; i < css_urls.length; i++) {\n",
       "      const url = css_urls[i];\n",
       "      const element = document.createElement(\"link\");\n",
       "      element.onload = on_load;\n",
       "      element.onerror = on_error.bind(null, url);\n",
       "      element.rel = \"stylesheet\";\n",
       "      element.type = \"text/css\";\n",
       "      element.href = url;\n",
       "      console.debug(\"Bokeh: injecting link tag for BokehJS stylesheet: \", url);\n",
       "      document.body.appendChild(element);\n",
       "    }\n",
       "\n",
       "    for (let i = 0; i < js_urls.length; i++) {\n",
       "      const url = js_urls[i];\n",
       "      const element = document.createElement('script');\n",
       "      element.onload = on_load;\n",
       "      element.onerror = on_error.bind(null, url);\n",
       "      element.async = false;\n",
       "      element.src = url;\n",
       "      console.debug(\"Bokeh: injecting script tag for BokehJS library: \", url);\n",
       "      document.head.appendChild(element);\n",
       "    }\n",
       "  };\n",
       "\n",
       "  function inject_raw_css(css) {\n",
       "    const element = document.createElement(\"style\");\n",
       "    element.appendChild(document.createTextNode(css));\n",
       "    document.body.appendChild(element);\n",
       "  }\n",
       "\n",
       "  const js_urls = [\"https://cdn.bokeh.org/bokeh/release/bokeh-3.7.3.min.js\", \"https://cdn.bokeh.org/bokeh/release/bokeh-gl-3.7.3.min.js\", \"https://cdn.bokeh.org/bokeh/release/bokeh-widgets-3.7.3.min.js\", \"https://cdn.bokeh.org/bokeh/release/bokeh-tables-3.7.3.min.js\", \"https://cdn.bokeh.org/bokeh/release/bokeh-mathjax-3.7.3.min.js\"];\n",
       "  const css_urls = [];\n",
       "\n",
       "  const inline_js = [    function(Bokeh) {\n",
       "      Bokeh.set_log_level(\"info\");\n",
       "    },\n",
       "function(Bokeh) {\n",
       "    }\n",
       "  ];\n",
       "\n",
       "  function run_inline_js() {\n",
       "    if (root.Bokeh !== undefined || force === true) {\n",
       "      try {\n",
       "            for (let i = 0; i < inline_js.length; i++) {\n",
       "      inline_js[i].call(root, root.Bokeh);\n",
       "    }\n",
       "\n",
       "      } catch (error) {display_loaded(error);throw error;\n",
       "      }if (force === true) {\n",
       "        display_loaded();\n",
       "      }} else if (Date.now() < root._bokeh_timeout) {\n",
       "      setTimeout(run_inline_js, 100);\n",
       "    } else if (!root._bokeh_failed_load) {\n",
       "      console.log(\"Bokeh: BokehJS failed to load within specified timeout.\");\n",
       "      root._bokeh_failed_load = true;\n",
       "    } else if (force !== true) {\n",
       "      const cell = $(document.getElementById(\"c3827350-b8c6-4e9b-a780-8a05ed59f9ab\")).parents('.cell').data().cell;\n",
       "      cell.output_area.append_execute_result(NB_LOAD_WARNING)\n",
       "    }\n",
       "  }\n",
       "\n",
       "  if (root._bokeh_is_loading === 0) {\n",
       "    console.debug(\"Bokeh: BokehJS loaded, going straight to plotting\");\n",
       "    run_inline_js();\n",
       "  } else {\n",
       "    load_libs(css_urls, js_urls, function() {\n",
       "      console.debug(\"Bokeh: BokehJS plotting callback run at\", now());\n",
       "      run_inline_js();\n",
       "    });\n",
       "  }\n",
       "}(window));"
      ],
      "application/vnd.bokehjs_load.v0+json": "'use strict';\n(function(root) {\n  function now() {\n    return new Date();\n  }\n\n  const force = true;\n\n  if (typeof root._bokeh_onload_callbacks === \"undefined\" || force === true) {\n    root._bokeh_onload_callbacks = [];\n    root._bokeh_is_loading = undefined;\n  }\n\n\n  if (typeof (root._bokeh_timeout) === \"undefined\" || force === true) {\n    root._bokeh_timeout = Date.now() + 5000;\n    root._bokeh_failed_load = false;\n  }\n\n  const NB_LOAD_WARNING = {'data': {'text/html':\n     \"<div style='background-color: #fdd'>\\n\"+\n     \"<p>\\n\"+\n     \"BokehJS does not appear to have successfully loaded. If loading BokehJS from CDN, this \\n\"+\n     \"may be due to a slow or bad network connection. Possible fixes:\\n\"+\n     \"</p>\\n\"+\n     \"<ul>\\n\"+\n     \"<li>re-rerun `output_notebook()` to attempt to load from CDN again, or</li>\\n\"+\n     \"<li>use INLINE resources instead, as so:</li>\\n\"+\n     \"</ul>\\n\"+\n     \"<code>\\n\"+\n     \"from bokeh.resources import INLINE\\n\"+\n     \"output_notebook(resources=INLINE)\\n\"+\n     \"</code>\\n\"+\n     \"</div>\"}};\n\n  function display_loaded(error = null) {\n    const el = document.getElementById(\"c3827350-b8c6-4e9b-a780-8a05ed59f9ab\");\n    if (el != null) {\n      const html = (() => {\n        if (typeof root.Bokeh === \"undefined\") {\n          if (error == null) {\n            return \"BokehJS is loading ...\";\n          } else {\n            return \"BokehJS failed to load.\";\n          }\n        } else {\n          const prefix = `BokehJS ${root.Bokeh.version}`;\n          if (error == null) {\n            return `${prefix} successfully loaded.`;\n          } else {\n            return `${prefix} <b>encountered errors</b> while loading and may not function as expected.`;\n          }\n        }\n      })();\n      el.innerHTML = html;\n\n      if (error != null) {\n        const wrapper = document.createElement(\"div\");\n        wrapper.style.overflow = \"auto\";\n        wrapper.style.height = \"5em\";\n        wrapper.style.resize = \"vertical\";\n        const content = document.createElement(\"div\");\n        content.style.fontFamily = \"monospace\";\n        content.style.whiteSpace = \"pre-wrap\";\n        content.style.backgroundColor = \"rgb(255, 221, 221)\";\n        content.textContent = error.stack ?? error.toString();\n        wrapper.append(content);\n        el.append(wrapper);\n      }\n    } else if (Date.now() < root._bokeh_timeout) {\n      setTimeout(() => display_loaded(error), 100);\n    }\n  }\n\n  function run_callbacks() {\n    try {\n      root._bokeh_onload_callbacks.forEach(function(callback) {\n        if (callback != null)\n          callback();\n      });\n    } finally {\n      delete root._bokeh_onload_callbacks\n    }\n    console.debug(\"Bokeh: all callbacks have finished\");\n  }\n\n  function load_libs(css_urls, js_urls, callback) {\n    if (css_urls == null) css_urls = [];\n    if (js_urls == null) js_urls = [];\n\n    root._bokeh_onload_callbacks.push(callback);\n    if (root._bokeh_is_loading > 0) {\n      console.debug(\"Bokeh: BokehJS is being loaded, scheduling callback at\", now());\n      return null;\n    }\n    if (js_urls == null || js_urls.length === 0) {\n      run_callbacks();\n      return null;\n    }\n    console.debug(\"Bokeh: BokehJS not loaded, scheduling load and callback at\", now());\n    root._bokeh_is_loading = css_urls.length + js_urls.length;\n\n    function on_load() {\n      root._bokeh_is_loading--;\n      if (root._bokeh_is_loading === 0) {\n        console.debug(\"Bokeh: all BokehJS libraries/stylesheets loaded\");\n        run_callbacks()\n      }\n    }\n\n    function on_error(url) {\n      console.error(\"failed to load \" + url);\n    }\n\n    for (let i = 0; i < css_urls.length; i++) {\n      const url = css_urls[i];\n      const element = document.createElement(\"link\");\n      element.onload = on_load;\n      element.onerror = on_error.bind(null, url);\n      element.rel = \"stylesheet\";\n      element.type = \"text/css\";\n      element.href = url;\n      console.debug(\"Bokeh: injecting link tag for BokehJS stylesheet: \", url);\n      document.body.appendChild(element);\n    }\n\n    for (let i = 0; i < js_urls.length; i++) {\n      const url = js_urls[i];\n      const element = document.createElement('script');\n      element.onload = on_load;\n      element.onerror = on_error.bind(null, url);\n      element.async = false;\n      element.src = url;\n      console.debug(\"Bokeh: injecting script tag for BokehJS library: \", url);\n      document.head.appendChild(element);\n    }\n  };\n\n  function inject_raw_css(css) {\n    const element = document.createElement(\"style\");\n    element.appendChild(document.createTextNode(css));\n    document.body.appendChild(element);\n  }\n\n  const js_urls = [\"https://cdn.bokeh.org/bokeh/release/bokeh-3.7.3.min.js\", \"https://cdn.bokeh.org/bokeh/release/bokeh-gl-3.7.3.min.js\", \"https://cdn.bokeh.org/bokeh/release/bokeh-widgets-3.7.3.min.js\", \"https://cdn.bokeh.org/bokeh/release/bokeh-tables-3.7.3.min.js\", \"https://cdn.bokeh.org/bokeh/release/bokeh-mathjax-3.7.3.min.js\"];\n  const css_urls = [];\n\n  const inline_js = [    function(Bokeh) {\n      Bokeh.set_log_level(\"info\");\n    },\nfunction(Bokeh) {\n    }\n  ];\n\n  function run_inline_js() {\n    if (root.Bokeh !== undefined || force === true) {\n      try {\n            for (let i = 0; i < inline_js.length; i++) {\n      inline_js[i].call(root, root.Bokeh);\n    }\n\n      } catch (error) {display_loaded(error);throw error;\n      }if (force === true) {\n        display_loaded();\n      }} else if (Date.now() < root._bokeh_timeout) {\n      setTimeout(run_inline_js, 100);\n    } else if (!root._bokeh_failed_load) {\n      console.log(\"Bokeh: BokehJS failed to load within specified timeout.\");\n      root._bokeh_failed_load = true;\n    } else if (force !== true) {\n      const cell = $(document.getElementById(\"c3827350-b8c6-4e9b-a780-8a05ed59f9ab\")).parents('.cell').data().cell;\n      cell.output_area.append_execute_result(NB_LOAD_WARNING)\n    }\n  }\n\n  if (root._bokeh_is_loading === 0) {\n    console.debug(\"Bokeh: BokehJS loaded, going straight to plotting\");\n    run_inline_js();\n  } else {\n    load_libs(css_urls, js_urls, function() {\n      console.debug(\"Bokeh: BokehJS plotting callback run at\", now());\n      run_inline_js();\n    });\n  }\n}(window));"
     },
     "metadata": {},
     "output_type": "display_data"
    }
   ],
   "source": [
    "# Mostrar gráficos en el notebook\n",
    "output_notebook()"
   ]
  },
  {
   "cell_type": "code",
   "execution_count": 45,
   "id": "d3faceec-5118-4de9-9281-b4bb02ccdd80",
   "metadata": {},
   "outputs": [
    {
     "data": {
      "text/html": [
       "\n",
       "  <div id=\"ddd6b820-83db-4491-b334-2b0e80612065\" data-root-id=\"p1006\" style=\"display: contents;\"></div>\n"
      ]
     },
     "metadata": {},
     "output_type": "display_data"
    },
    {
     "data": {
      "application/javascript": [
       "(function(root) {\n",
       "  function embed_document(root) {\n",
       "  const docs_json = {\"f8bb6833-ce6f-405a-9f73-0f87ec51b473\":{\"version\":\"3.7.3\",\"title\":\"Bokeh Application\",\"roots\":[{\"type\":\"object\",\"name\":\"Figure\",\"id\":\"p1006\",\"attributes\":{\"height\":550,\"x_range\":{\"type\":\"object\",\"name\":\"FactorRange\",\"id\":\"p1016\",\"attributes\":{\"factors\":[\"ADMINISTRACION DE EMPRESAS\",\"ENFERMERIA\",\"CONTABILIDAD Y AUDITORIA\",\"INGENIERIA CIVIL\",\"DERECHO\",\"EDUCACION INICIAL\",\"PEDAGOGIA DE LOS IDIOMAS NACIONALES Y EXTRANJEROS\",\"COMUNICACION\",\"GESTION SOCIAL Y DESARROLLO\",\"EDUCACION BASICA\"],\"range_padding\":0.1}},\"y_range\":{\"type\":\"object\",\"name\":\"DataRange1d\",\"id\":\"p1008\",\"attributes\":{\"start\":0}},\"x_scale\":{\"type\":\"object\",\"name\":\"CategoricalScale\",\"id\":\"p1017\"},\"y_scale\":{\"type\":\"object\",\"name\":\"LinearScale\",\"id\":\"p1018\"},\"title\":{\"type\":\"object\",\"name\":\"Title\",\"id\":\"p1009\",\"attributes\":{\"text\":\"Top 10 de las carreras con mayor demanda\"}},\"renderers\":[{\"type\":\"object\",\"name\":\"GlyphRenderer\",\"id\":\"p1035\",\"attributes\":{\"data_source\":{\"type\":\"object\",\"name\":\"ColumnDataSource\",\"id\":\"p1003\",\"attributes\":{\"selected\":{\"type\":\"object\",\"name\":\"Selection\",\"id\":\"p1004\",\"attributes\":{\"indices\":[],\"line_indices\":[]}},\"selection_policy\":{\"type\":\"object\",\"name\":\"UnionRenderers\",\"id\":\"p1005\"},\"data\":{\"type\":\"map\",\"entries\":[[\"categorias\",[\"ADMINISTRACION DE EMPRESAS\",\"ENFERMERIA\",\"CONTABILIDAD Y AUDITORIA\",\"INGENIERIA CIVIL\",\"DERECHO\",\"EDUCACION INICIAL\",\"PEDAGOGIA DE LOS IDIOMAS NACIONALES Y EXTRANJEROS\",\"COMUNICACION\",\"GESTION SOCIAL Y DESARROLLO\",\"EDUCACION BASICA\"]],[\"valores\",[1647,1548,1416,1315,1014,1003,1002,837,836,809]],[\"etiquetas\",[\"1647\",\"1548\",\"1416\",\"1315\",\"1014\",\"1003\",\"1002\",\"837\",\"836\",\"809\"]]]}}},\"view\":{\"type\":\"object\",\"name\":\"CDSView\",\"id\":\"p1036\",\"attributes\":{\"filter\":{\"type\":\"object\",\"name\":\"AllIndices\",\"id\":\"p1037\"}}},\"glyph\":{\"type\":\"object\",\"name\":\"VBar\",\"id\":\"p1032\",\"attributes\":{\"x\":{\"type\":\"field\",\"field\":\"categorias\"},\"width\":{\"type\":\"value\",\"value\":0.6},\"top\":{\"type\":\"field\",\"field\":\"valores\"},\"line_color\":{\"type\":\"value\",\"value\":\"#1f77b4\"},\"fill_color\":{\"type\":\"value\",\"value\":\"skyblue\"}}},\"nonselection_glyph\":{\"type\":\"object\",\"name\":\"VBar\",\"id\":\"p1033\",\"attributes\":{\"x\":{\"type\":\"field\",\"field\":\"categorias\"},\"width\":{\"type\":\"value\",\"value\":0.6},\"top\":{\"type\":\"field\",\"field\":\"valores\"},\"line_color\":{\"type\":\"value\",\"value\":\"#1f77b4\"},\"line_alpha\":{\"type\":\"value\",\"value\":0.1},\"fill_color\":{\"type\":\"value\",\"value\":\"skyblue\"},\"fill_alpha\":{\"type\":\"value\",\"value\":0.1},\"hatch_alpha\":{\"type\":\"value\",\"value\":0.1}}},\"muted_glyph\":{\"type\":\"object\",\"name\":\"VBar\",\"id\":\"p1034\",\"attributes\":{\"x\":{\"type\":\"field\",\"field\":\"categorias\"},\"width\":{\"type\":\"value\",\"value\":0.6},\"top\":{\"type\":\"field\",\"field\":\"valores\"},\"line_color\":{\"type\":\"value\",\"value\":\"#1f77b4\"},\"line_alpha\":{\"type\":\"value\",\"value\":0.2},\"fill_color\":{\"type\":\"value\",\"value\":\"skyblue\"},\"fill_alpha\":{\"type\":\"value\",\"value\":0.2},\"hatch_alpha\":{\"type\":\"value\",\"value\":0.2}}}}}],\"toolbar\":{\"type\":\"object\",\"name\":\"Toolbar\",\"id\":\"p1015\"},\"toolbar_location\":null,\"left\":[{\"type\":\"object\",\"name\":\"LinearAxis\",\"id\":\"p1024\",\"attributes\":{\"ticker\":{\"type\":\"object\",\"name\":\"BasicTicker\",\"id\":\"p1025\",\"attributes\":{\"mantissas\":[1,2,5]}},\"formatter\":{\"type\":\"object\",\"name\":\"BasicTickFormatter\",\"id\":\"p1026\"},\"axis_label\":\"Cantidad\",\"major_label_policy\":{\"type\":\"object\",\"name\":\"AllLabels\",\"id\":\"p1027\"}}}],\"below\":[{\"type\":\"object\",\"name\":\"CategoricalAxis\",\"id\":\"p1019\",\"attributes\":{\"ticker\":{\"type\":\"object\",\"name\":\"CategoricalTicker\",\"id\":\"p1020\"},\"formatter\":{\"type\":\"object\",\"name\":\"CategoricalTickFormatter\",\"id\":\"p1021\"},\"major_label_orientation\":1,\"major_label_policy\":{\"type\":\"object\",\"name\":\"AllLabels\",\"id\":\"p1022\"}}}],\"center\":[{\"type\":\"object\",\"name\":\"Grid\",\"id\":\"p1023\",\"attributes\":{\"axis\":{\"id\":\"p1019\"},\"grid_line_color\":null}},{\"type\":\"object\",\"name\":\"Grid\",\"id\":\"p1028\",\"attributes\":{\"dimension\":1,\"axis\":{\"id\":\"p1024\"}}},{\"type\":\"object\",\"name\":\"LabelSet\",\"id\":\"p1038\",\"attributes\":{\"source\":{\"id\":\"p1003\"},\"x\":{\"type\":\"field\",\"field\":\"categorias\"},\"y\":{\"type\":\"field\",\"field\":\"valores\"},\"text\":{\"type\":\"field\",\"field\":\"etiquetas\"},\"x_offset\":{\"type\":\"value\",\"value\":-13},\"y_offset\":{\"type\":\"value\",\"value\":5},\"text_font_size\":{\"type\":\"value\",\"value\":\"10pt\"}}}]}}]}};\n",
       "  const render_items = [{\"docid\":\"f8bb6833-ce6f-405a-9f73-0f87ec51b473\",\"roots\":{\"p1006\":\"ddd6b820-83db-4491-b334-2b0e80612065\"},\"root_ids\":[\"p1006\"]}];\n",
       "  void root.Bokeh.embed.embed_items_notebook(docs_json, render_items);\n",
       "  }\n",
       "  if (root.Bokeh !== undefined) {\n",
       "    embed_document(root);\n",
       "  } else {\n",
       "    let attempts = 0;\n",
       "    const timer = setInterval(function(root) {\n",
       "      if (root.Bokeh !== undefined) {\n",
       "        clearInterval(timer);\n",
       "        embed_document(root);\n",
       "      } else {\n",
       "        attempts++;\n",
       "        if (attempts > 100) {\n",
       "          clearInterval(timer);\n",
       "          console.log(\"Bokeh: ERROR: Unable to run BokehJS code because BokehJS library is missing\");\n",
       "        }\n",
       "      }\n",
       "    }, 10, root)\n",
       "  }\n",
       "})(window);"
      ],
      "application/vnd.bokehjs_exec.v0+json": ""
     },
     "metadata": {
      "application/vnd.bokehjs_exec.v0+json": {
       "id": "p1006"
      }
     },
     "output_type": "display_data"
    }
   ],
   "source": [
    "# Seleccionar las 10 carreras con mayor demanda\n",
    "top10 = conteo.head(10)\n",
    "\n",
    "# Datos de ejemplo\n",
    "categorias = top10['carrera'].to_list()\n",
    "valores = top10['cantidad'].to_list()\n",
    "\n",
    "# Preparar la fuente de datos\n",
    "source = ColumnDataSource(data=dict(\n",
    "    categorias=categorias,\n",
    "    valores=valores,\n",
    "    etiquetas=[f'{v}' for v in valores]\n",
    "))\n",
    "\n",
    "# Crear la figura\n",
    "p = figure(\n",
    "    x_range=categorias,\n",
    "    height=550,\n",
    "    title=\"Top 10 de las carreras con mayor demanda\",\n",
    "    toolbar_location=None,\n",
    "    tools=\"\"\n",
    ")\n",
    "\n",
    "# Dibujar las barras\n",
    "p.vbar(x='categorias', top='valores', width=0.6, source=source, fill_color=\"skyblue\")\n",
    "\n",
    "# Agregar etiquetas con los valores\n",
    "labels = LabelSet(\n",
    "    x='categorias',\n",
    "    y='valores',\n",
    "    text='etiquetas',\n",
    "    x_offset=-13, y_offset=5,\n",
    "    source=source,\n",
    "    text_font_size=\"10pt\"\n",
    ")\n",
    "p.add_layout(labels)\n",
    "\n",
    "# Ajustes visuales\n",
    "p.y_range.start = 0\n",
    "p.x_range.range_padding = 0.1\n",
    "p.xaxis.major_label_orientation = 1\n",
    "p.xgrid.grid_line_color = None\n",
    "p.yaxis.axis_label = \"Cantidad\"\n",
    "\n",
    "# Mostrar el gráfico\n",
    "show(p)"
   ]
  },
  {
   "cell_type": "code",
   "execution_count": null,
   "id": "6814f21b-575e-44d9-bcac-dd6c3e716e35",
   "metadata": {},
   "outputs": [],
   "source": []
  }
 ],
 "metadata": {
  "kernelspec": {
   "display_name": "Python 3 (ipykernel)",
   "language": "python",
   "name": "python3"
  },
  "language_info": {
   "codemirror_mode": {
    "name": "ipython",
    "version": 3
   },
   "file_extension": ".py",
   "mimetype": "text/x-python",
   "name": "python",
   "nbconvert_exporter": "python",
   "pygments_lexer": "ipython3",
   "version": "3.12.10"
  }
 },
 "nbformat": 4,
 "nbformat_minor": 5
}
